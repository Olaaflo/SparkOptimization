{
 "cells": [
  {
   "cell_type": "markdown",
   "metadata": {
    "application/vnd.databricks.v1+cell": {
     "cellMetadata": {
      "byteLimit": 2048000,
      "rowLimit": 10000
     },
     "inputWidgets": {},
     "nuid": "f1f04ca6-5f87-4934-a3ea-1494398b570a",
     "showTitle": false,
     "title": ""
    }
   },
   "source": [
    "# Rule Based recommendation Method -  Stepwise Weighted Count\n",
    "  * A rule based method for partition recommendation\n",
    "  * Multiplies each operation with a weight (based on when it happened) and summs the results for each column\n",
    "  * The **stepwise-weight** is based on the interval-weight(s) given as parameter to the notebook"
   ]
  },
  {
   "cell_type": "code",
   "execution_count": 0,
   "metadata": {
    "application/vnd.databricks.v1+cell": {
     "cellMetadata": {
      "byteLimit": 2048000,
      "rowLimit": 10000
     },
     "inputWidgets": {},
     "nuid": "bb3a45d5-f803-4e89-ac65-94a9b416d90b",
     "showTitle": false,
     "title": ""
    }
   },
   "outputs": [],
   "source": [
    "import pyspark.sql.functions as F\n",
    "import json\n",
    "from datetime import timedelta, datetime\n",
    "from pyspark.sql.types import (\n",
    "    StructType,\n",
    "    StructField,\n",
    "    IntegerType,\n",
    "    StringType,\n",
    "    TimestampType,\n",
    "    DoubleType,\n",
    "    FloatType,\n",
    ")"
   ]
  },
  {
   "cell_type": "markdown",
   "metadata": {
    "application/vnd.databricks.v1+cell": {
     "cellMetadata": {
      "byteLimit": 2048000,
      "rowLimit": 10000
     },
     "inputWidgets": {},
     "nuid": "0a9549e1-1c63-41de-b54b-dcb6bbb3ae99",
     "showTitle": false,
     "title": ""
    }
   },
   "source": [
    "### 1. Inputs\n",
    "* **toTime**: (yyyy-mm-dd HH:MM:SS) from when you want to start the relevant interval (last date)\n",
    "* **interval**: (int/float) how many weeks (starting from toTime and goes backwards) you want to use data\n",
    "* **num_steps**: (int) number of steps inside the interval\n",
    "* **weights**: (csv, floats) weights for each of the steps (e.g. \"1,2,3,4\")"
   ]
  },
  {
   "cell_type": "code",
   "execution_count": 0,
   "metadata": {
    "application/vnd.databricks.v1+cell": {
     "cellMetadata": {
      "byteLimit": 2048000,
      "rowLimit": 10000
     },
     "inputWidgets": {},
     "nuid": "b906ae67-8b17-48bd-b7b8-873099816532",
     "showTitle": false,
     "title": ""
    }
   },
   "outputs": [],
   "source": [
    "%run \"./Validators\""
   ]
  },
  {
   "cell_type": "code",
   "execution_count": 0,
   "metadata": {
    "application/vnd.databricks.v1+cell": {
     "cellMetadata": {
      "byteLimit": 2048000,
      "rowLimit": 10000
     },
     "inputWidgets": {},
     "nuid": "222aa154-0c3b-42ef-a6d9-04893e436117",
     "showTitle": false,
     "title": ""
    }
   },
   "outputs": [],
   "source": [
    "datetime_format = \"%Y-%m-%d %H:%M:%S\"\n",
    "\n",
    "dbutils.widgets.text(\n",
    "    \"to_time\",\n",
    "    \"None\",\n",
    "    'toTime, End of interval, use \"None\" for time.now(), Format: yyyy-mm-dd HH:MM:SS',\n",
    ")\n",
    "\n",
    "dbutils.widgets.text(\n",
    "    \"interval\", \"4\", \"Size of interval (weeks) for how much data the methods will use\"\n",
    ")\n",
    "\n",
    "dbutils.widgets.text(\n",
    "    \"num_steps\",\n",
    "    \"4\",\n",
    "    \"num_steps, number of sub-intervals inside the total interval size\",\n",
    ")\n",
    "\n",
    "dbutils.widgets.text(\n",
    "    \"weights\", \"0.25, 0.5, 0.75, 1\", \"weights, one weight for each sub-interval\"\n",
    ")\n",
    "\n",
    "to_time = dbutils.widgets.get(\"to_time\")\n",
    "interval = dbutils.widgets.get(\"interval\")\n",
    "num_steps = dbutils.widgets.get(\"num_steps\")\n",
    "weights = dbutils.widgets.get(\"weights\")\n",
    "\n",
    "# Because of work flows\n",
    "if to_time == \"None\":\n",
    "    to_time = datetime.now()\n",
    "else:\n",
    "    # function from ./Validators notebook\n",
    "    if validate_time_input(to_time, datetime_format):\n",
    "        to_time = datetime.strptime(to_time, datetime_format)\n",
    "    else:\n",
    "        raise ValueError(\"inputted to_time is not on the right format\")\n",
    "\n",
    "assert validate_positive_number(interval), \"interval is not a valid number > 0\"\n",
    "assert validate_positive_number(num_steps), \"num_steps is not a valid number > 0\"\n",
    "\n",
    "csv_item_validator = lambda item: validate_positive_number(item, gt_zero=False)\n",
    "assert validate_csv_numbers(\n",
    "    weights, csv_item_validator, int(num_steps), sep=\",\"\n",
    "), 'the cvs string of weights is not valid. it should be on format \"0.25, 0.5, 0.75, 1\" with values >= 0'\n",
    "\n",
    "\n",
    "interval = float(interval)\n",
    "num_steps = int(num_steps)\n",
    "weights = [float(n) for n in weights.replace(\" \", \"\").strip().split(\",\")]\n",
    "\n",
    "from_time = to_time - timedelta(weeks=interval)"
   ]
  },
  {
   "cell_type": "markdown",
   "metadata": {
    "application/vnd.databricks.v1+cell": {
     "cellMetadata": {
      "byteLimit": 2048000,
      "rowLimit": 10000
     },
     "inputWidgets": {},
     "nuid": "7b59498a-d272-461c-8ded-6c05827de395",
     "showTitle": false,
     "title": ""
    }
   },
   "source": [
    "#### Tables:\n",
    "* method_runs\n",
    "* method_results\n",
    "* method_recommendations\n",
    "\n",
    "Are already created in the **SetupTables** notebook"
   ]
  },
  {
   "cell_type": "code",
   "execution_count": 0,
   "metadata": {
    "application/vnd.databricks.v1+cell": {
     "cellMetadata": {
      "byteLimit": 2048000,
      "rowLimit": 10000
     },
     "inputWidgets": {},
     "nuid": "8e931621-302d-4048-8ad4-e5cc4118c4a5",
     "showTitle": false,
     "title": ""
    }
   },
   "outputs": [],
   "source": [
    "# Schema used to insert into the method_runs table\n",
    "method_runs_schema = StructType(\n",
    "    [\n",
    "        StructField(\"runId\", IntegerType(), nullable=True),\n",
    "        StructField(\"methodName\", StringType(), nullable=True),\n",
    "        StructField(\"params\", StringType(), nullable=True),\n",
    "        StructField(\"fromTime\", TimestampType(), nullable=True),\n",
    "        StructField(\"toTime\", TimestampType(), nullable=True),\n",
    "        StructField(\"whenRun\", TimestampType(), nullable=True),\n",
    "    ]\n",
    ")"
   ]
  },
  {
   "cell_type": "markdown",
   "metadata": {
    "application/vnd.databricks.v1+cell": {
     "cellMetadata": {
      "byteLimit": 2048000,
      "rowLimit": 10000
     },
     "inputWidgets": {},
     "nuid": "78a44172-995b-4069-ad0a-f0cd98f50b34",
     "showTitle": false,
     "title": ""
    }
   },
   "source": [
    "### 2. Preprocessing\n",
    "##### Fetch the data from the operations table and perform the following steps:\n",
    "* Only fetch operations from within the **from_time** and **to_time** input parameters\n",
    "* Ignore the \"Filter\" rows as columns in here seems to already be stored under the \"PushedFilters\" rows\n",
    "* Remove rows with NA values and empty strings (may have happended when extracting the table and database name)"
   ]
  },
  {
   "cell_type": "code",
   "execution_count": 0,
   "metadata": {
    "application/vnd.databricks.v1+cell": {
     "cellMetadata": {
      "byteLimit": 2048000,
      "rowLimit": 10000
     },
     "inputWidgets": {},
     "nuid": "7db869df-688c-4c75-9994-cb926daa5d00",
     "showTitle": false,
     "title": ""
    }
   },
   "outputs": [],
   "source": [
    "# Convert from and to-time to the same format as the table\n",
    "from_time_timestamp = int(from_time.timestamp() * 1000)\n",
    "to_time_timestamp = int(to_time.timestamp() * 1000)\n",
    "\n",
    "# Only get data between from and to-date\n",
    "# Remove rows where operation name isn't Filter (end up with PartitionFilters and PushedFilters)\n",
    "operations = (\n",
    "    spark.sql(\"SELECT * FROM operations\")\n",
    "    .filter(F.col(\"timeGenerated\").between(from_time_timestamp, to_time_timestamp))\n",
    "    .filter(F.col(\"operationName\") != \"Filter\")\n",
    ")\n",
    "\n",
    "# Remove empty rows\n",
    "operations = operations.select(\n",
    "    [\n",
    "        F.when(operations[col] == \"\", None).otherwise(operations[col]).alias(col)\n",
    "        for col in operations.columns\n",
    "    ]\n",
    ").dropna(how=\"any\")"
   ]
  },
  {
   "cell_type": "code",
   "execution_count": 0,
   "metadata": {
    "application/vnd.databricks.v1+cell": {
     "cellMetadata": {},
     "inputWidgets": {},
     "nuid": "2bdfaffd-e3ad-4a0a-9980-457401973362",
     "showTitle": false,
     "title": ""
    }
   },
   "outputs": [],
   "source": [
    "# This code is responsible for creating a dataframe where you can check whether a table is partitioned on a particular column\n",
    "# Used as a lookup before writing results to tables after having run some of the methods\n",
    "\n",
    "# Group by databaseName, tableName, columnName and find the max timeGenerated\n",
    "max_time_df = operations.groupBy(\"databaseName\", \"tableName\", \"columnName\").agg(\n",
    "    F.max(\"timeGenerated\").alias(\"maxTimeGenerated\")\n",
    ")\n",
    "\n",
    "\n",
    "# Join the max_time_df with the original dataframe\n",
    "max_time_df = (\n",
    "    operations.join(max_time_df, [\"databaseName\", \"tableName\", \"columnName\"])\n",
    "    .filter(F.col(\"timeGenerated\") == F.col(\"maxTimeGenerated\"))\n",
    "    .groupBy(\"databaseName\", \"tableName\", \"columnName\")\n",
    "    .agg(\n",
    "        F.first(F.col(\"operationName\")).alias(\"operationName\"),\n",
    "    )\n",
    ")\n",
    "\n",
    "\n",
    "is_partitioned = max_time_df.withColumn(\n",
    "    \"isPartitioned\",\n",
    "    F.when(F.col(\"operationName\") == \"PartitionFilters\", True).otherwise(False),\n",
    ").drop(\"operationName\")\n",
    "\n",
    "\n",
    "display(is_partitioned)"
   ]
  },
  {
   "cell_type": "markdown",
   "metadata": {
    "application/vnd.databricks.v1+cell": {
     "cellMetadata": {
      "byteLimit": 2048000,
      "rowLimit": 10000
     },
     "inputWidgets": {},
     "nuid": "e17ddd92-7c9d-440b-8539-4c3797a7e745",
     "showTitle": false,
     "title": ""
    }
   },
   "source": [
    "### 3. Method - stepwise weighted count\n",
    "For each databse, table, column; check how often the column is used for filtering (PartitionFilters, Filter), count the occurences\n",
    "##### parameters:\n",
    "* **num_steps**: (int) number of sub-intervals inside the window\n",
    "* **weights**: (list[float]) a weight for each of the sub-intervals\n",
    "* **windowStart**: (int - unix_ms) window start of which data to be used\n",
    "* **windowEnd**: (int - unix_ms) window end of which data to be used\n",
    "* **windowSize**: (float) number of weeks of which the interval spans\n",
    "\n",
    "##### metadata of method:\n",
    "* **whenRun**: (timestamp) when the method is ran"
   ]
  },
  {
   "cell_type": "code",
   "execution_count": 0,
   "metadata": {
    "application/vnd.databricks.v1+cell": {
     "cellMetadata": {
      "byteLimit": 2048000,
      "rowLimit": 10000
     },
     "inputWidgets": {},
     "nuid": "af74212c-5094-4300-868a-b007606a1a16",
     "showTitle": false,
     "title": ""
    }
   },
   "outputs": [
    {
     "output_type": "stream",
     "name": "stdout",
     "output_type": "stream",
     "text": [
      "runId: 3\n"
     ]
    }
   ],
   "source": [
    "runId = 1\n",
    "# update runId if there is already a max_id in the method_runs table\n",
    "max_id = spark.sql(\"SELECT MAX(runId) AS max_id FROM method_runs\").collect()[0][\n",
    "    \"max_id\"\n",
    "]\n",
    "if max_id is not None:\n",
    "    runId = max_id + 1\n",
    "print(f\"runId: {runId}\")\n",
    "\n",
    "# No parameters for this method\n",
    "params = {\n",
    "    'num_steps': num_steps,\n",
    "    'weights': weights,\n",
    "    \"windowStart\": from_time_timestamp,\n",
    "    \"windowEnd\": to_time_timestamp,\n",
    "    \"windowSize\": interval,\n",
    "}\n",
    "\n",
    "metadata = {\n",
    "    \"whenRun\": datetime.now(),\n",
    "}"
   ]
  },
  {
   "cell_type": "code",
   "execution_count": 0,
   "metadata": {
    "application/vnd.databricks.v1+cell": {
     "cellMetadata": {
      "byteLimit": 2048000,
      "rowLimit": 10000
     },
     "inputWidgets": {},
     "nuid": "0c8ee01c-18f5-46f0-a974-6df142b9630f",
     "showTitle": false,
     "title": ""
    }
   },
   "outputs": [
    {
     "output_type": "display_data",
     "data": {
      "text/html": [
       "<style scoped>\n",
       "  .table-result-container {\n",
       "    max-height: 300px;\n",
       "    overflow: auto;\n",
       "  }\n",
       "  table, th, td {\n",
       "    border: 1px solid black;\n",
       "    border-collapse: collapse;\n",
       "  }\n",
       "  th, td {\n",
       "    padding: 5px;\n",
       "  }\n",
       "  th {\n",
       "    text-align: left;\n",
       "  }\n",
       "</style><div class='table-result-container'><table class='table-result'><thead style='background-color: white'><tr><th>runId</th><th>methodName</th><th>params</th><th>fromTime</th><th>toTime</th><th>whenRun</th></tr></thead><tbody><tr><td>3</td><td>stepwiseWeightedCount</td><td>{\"num_steps\": 4, \"weights\": [0.25, 0.5, 0.75, 1.0], \"windowStart\": 1680175696003, \"windowEnd\": 1682594896003, \"windowSize\": 4.0}</td><td>2023-03-30T11:28:16.003+0000</td><td>2023-04-27T11:28:16.003+0000</td><td>2023-04-27T11:28:17.118+0000</td></tr></tbody></table></div>"
      ]
     },
     "metadata": {
      "application/vnd.databricks.v1+output": {
       "addedWidgets": {},
       "aggData": [],
       "aggError": "",
       "aggOverflow": false,
       "aggSchema": [],
       "aggSeriesLimitReached": false,
       "aggType": "",
       "arguments": {},
       "columnCustomDisplayInfos": {},
       "data": [
        [
         3,
         "stepwiseWeightedCount",
         "{\"num_steps\": 4, \"weights\": [0.25, 0.5, 0.75, 1.0], \"windowStart\": 1680175696003, \"windowEnd\": 1682594896003, \"windowSize\": 4.0}",
         "2023-03-30T11:28:16.003+0000",
         "2023-04-27T11:28:16.003+0000",
         "2023-04-27T11:28:17.118+0000"
        ]
       ],
       "datasetInfos": [],
       "dbfsResultPath": null,
       "isJsonSchema": true,
       "metadata": {},
       "overflow": false,
       "plotOptions": {
        "customPlotOptions": {},
        "displayType": "table",
        "pivotAggregation": null,
        "pivotColumns": null,
        "xColumns": null,
        "yColumns": null
       },
       "removedWidgets": [],
       "schema": [
        {
         "metadata": "{}",
         "name": "runId",
         "type": "\"integer\""
        },
        {
         "metadata": "{}",
         "name": "methodName",
         "type": "\"string\""
        },
        {
         "metadata": "{}",
         "name": "params",
         "type": "\"string\""
        },
        {
         "metadata": "{}",
         "name": "fromTime",
         "type": "\"timestamp\""
        },
        {
         "metadata": "{}",
         "name": "toTime",
         "type": "\"timestamp\""
        },
        {
         "metadata": "{}",
         "name": "whenRun",
         "type": "\"timestamp\""
        }
       ],
       "type": "table"
      }
     },
     "output_type": "display_data"
    }
   ],
   "source": [
    "method_run_info = {\n",
    "    \"runId\": runId,\n",
    "    \"methodName\": \"stepwiseWeightedCount\",\n",
    "    \"params\": json.dumps(params) if params else \"\",\n",
    "    \"fromTime\": from_time,\n",
    "    \"toTime\": to_time,\n",
    "    \"whenRun\": metadata[\"whenRun\"],\n",
    "}\n",
    "\n",
    "method_run = spark.createDataFrame([method_run_info], schema=method_runs_schema)\n",
    "display(method_run)"
   ]
  },
  {
   "cell_type": "markdown",
   "metadata": {
    "application/vnd.databricks.v1+cell": {
     "cellMetadata": {
      "byteLimit": 2048000,
      "rowLimit": 10000
     },
     "inputWidgets": {},
     "nuid": "be590538-2d84-4e58-9fdd-0d86413d2aec",
     "showTitle": false,
     "title": ""
    }
   },
   "source": [
    "### 3.1 Calculate the cutoffs for each sub-interval and assign belonging weights"
   ]
  },
  {
   "cell_type": "code",
   "execution_count": 0,
   "metadata": {
    "application/vnd.databricks.v1+cell": {
     "cellMetadata": {
      "byteLimit": 2048000,
      "rowLimit": 10000
     },
     "inputWidgets": {},
     "nuid": "23c015e4-c9f6-405d-bae3-a1fd330977fb",
     "showTitle": false,
     "title": ""
    }
   },
   "outputs": [],
   "source": [
    "delta = round((to_time_timestamp - from_time_timestamp)/num_steps)\n",
    "start = round(from_time_timestamp)\n",
    "\n",
    "intervals = []\n",
    "for i in range(num_steps):\n",
    "    intervals.append((start, start + delta))\n",
    "    start = start + delta"
   ]
  },
  {
   "cell_type": "code",
   "execution_count": 0,
   "metadata": {
    "application/vnd.databricks.v1+cell": {
     "cellMetadata": {
      "byteLimit": 2048000,
      "rowLimit": 10000
     },
     "inputWidgets": {},
     "nuid": "31fd8075-8c3c-4bc8-84ad-f0cb4f0e8bea",
     "showTitle": false,
     "title": ""
    }
   },
   "outputs": [
    {
     "output_type": "stream",
     "name": "stdout",
     "output_type": "stream",
     "text": [
      "+-----------------+------------+-----------+-------------+---------------+-----------+------------+-------------+-----------+------+\n|       columnName|databaseName|executionId|operationName|physicalPlanKey|eventlogKey|   tableName|timeGenerated|operationId|weight|\n+-----------------+------------+-----------+-------------+---------------+-----------+------------+-------------+-----------+------+\n|   sparkContextID|     default|       1308|PushedFilters|    -1577232127| 1186829784|eventlog_raw|1681305905689|         10|   0.5|\n|     lastModified|     default|       1308|PushedFilters|    -1577232127| 1186829784|eventlog_raw|1681305905689|         11|   0.5|\n|clusterInstanceID|     default|       1308|PushedFilters|    -1577232127| 1186829784|eventlog_raw|1681305905689|         12|   0.5|\n|   sparkContextID|     default|       1308|PushedFilters|    -1577232127| 1186829784|eventlog_raw|1681305905689|         13|   0.5|\n|     lastModified|     default|       1308|PushedFilters|    -1577232127| 1186829784|eventlog_raw|1681305905689|         14|   0.5|\n|clusterInstanceID|     default|       1308|PushedFilters|    -1577232127| 1186829784|eventlog_raw|1681305905689|         15|   0.5|\n|   sparkContextID|     default|       1307|PushedFilters|    -1477335254| 1186829784|eventlog_raw|1681305896784|         26|   0.5|\n|     lastModified|     default|       1307|PushedFilters|    -1477335254| 1186829784|eventlog_raw|1681305896784|         27|   0.5|\n|clusterInstanceID|     default|       1307|PushedFilters|    -1477335254| 1186829784|eventlog_raw|1681305896784|         28|   0.5|\n|   sparkContextID|     default|       1307|PushedFilters|    -1477335254| 1186829784|eventlog_raw|1681305896784|         29|   0.5|\n|     lastModified|     default|       1307|PushedFilters|    -1477335254| 1186829784|eventlog_raw|1681305896784|         30|   0.5|\n|clusterInstanceID|     default|       1307|PushedFilters|    -1477335254| 1186829784|eventlog_raw|1681305896784|         31|   0.5|\n|   sparkContextID|     default|       1306|PushedFilters|     -410869781| 1186829784|eventlog_raw|1681305887826|         42|   0.5|\n|     lastModified|     default|       1306|PushedFilters|     -410869781| 1186829784|eventlog_raw|1681305887826|         43|   0.5|\n|clusterInstanceID|     default|       1306|PushedFilters|     -410869781| 1186829784|eventlog_raw|1681305887826|         44|   0.5|\n|   sparkContextID|     default|       1306|PushedFilters|     -410869781| 1186829784|eventlog_raw|1681305887826|         45|   0.5|\n|     lastModified|     default|       1306|PushedFilters|     -410869781| 1186829784|eventlog_raw|1681305887826|         46|   0.5|\n|clusterInstanceID|     default|       1306|PushedFilters|     -410869781| 1186829784|eventlog_raw|1681305887826|         47|   0.5|\n|   sparkContextID|     default|        717|PushedFilters|     -864713122| 2116658528|eventlog_raw|1681218885839|         53|   0.5|\n|     lastModified|     default|        717|PushedFilters|     -864713122| 2116658528|eventlog_raw|1681218885839|         54|   0.5|\n+-----------------+------------+-----------+-------------+---------------+-----------+------------+-------------+-----------+------+\nonly showing top 20 rows\n\n"
     ]
    }
   ],
   "source": [
    "def assign_weight(timestamp):\n",
    "    for i in range(len(intervals)):\n",
    "        if timestamp >= intervals[i][0] and timestamp < intervals[i][1]:\n",
    "            return weights[i]\n",
    "    return None\n",
    "\n",
    "assign_weight_udf = F.udf(assign_weight, FloatType())\n",
    "weighted_operations = operations.withColumn(\"weight\", assign_weight_udf(\"timeGenerated\"))\n",
    "\n",
    "weighted_operations.show()"
   ]
  },
  {
   "cell_type": "markdown",
   "metadata": {
    "application/vnd.databricks.v1+cell": {
     "cellMetadata": {
      "byteLimit": 2048000,
      "rowLimit": 10000
     },
     "inputWidgets": {},
     "nuid": "da00fd92-14ad-468a-943f-a934af36e491",
     "showTitle": false,
     "title": ""
    }
   },
   "source": [
    "### 3.2 Aggregate Weighted Operations"
   ]
  },
  {
   "cell_type": "code",
   "execution_count": 0,
   "metadata": {
    "application/vnd.databricks.v1+cell": {
     "cellMetadata": {
      "byteLimit": 2048000,
      "rowLimit": 10000
     },
     "inputWidgets": {},
     "nuid": "f96c63d4-a442-473e-9ef9-5adc26fdc8cf",
     "showTitle": false,
     "title": ""
    }
   },
   "outputs": [
    {
     "output_type": "stream",
     "name": "stdout",
     "output_type": "stream",
     "text": [
      "+------------+--------------------+-----------------+----------------+-----------+\n|databaseName|           tableName|       columnName|   operationName|weightedSum|\n+------------+--------------------+-----------------+----------------+-----------+\n|     default|        eventlog_raw|        clusterID|   PushedFilters|       1.25|\n|     default|        eventlog_raw|clusterInstanceID|   PushedFilters|      183.5|\n|     default|        eventlog_raw|      eventlogKey|   PushedFilters|        6.5|\n|     default|        eventlog_raw|     lastModified|   PushedFilters|      350.0|\n|     default|        eventlog_raw|   sparkContextID|   PushedFilters|      169.0|\n|     default|monthly_global_oi...|        countryId|   PushedFilters|        1.0|\n|     default|monthly_global_oi...|      countryName|   PushedFilters|        3.0|\n|     default|monthly_global_oi...|        countryId|   PushedFilters|        1.0|\n|     default|monthly_global_oi...|      countryName|   PushedFilters|        3.5|\n|     default|monthly_global_oi...|         etl_year|PartitionFilters|        0.5|\n|     default|monthly_global_oi...|        countryId|   PushedFilters|       0.25|\n|     default|          operations|      eventlogKey|   PushedFilters|       17.0|\n|     default|          operations|    operationName|   PushedFilters|        2.5|\n|     default|  physical_plan_keys|  physicalPlanKey|   PushedFilters|       28.5|\n|     default|         plant_v0r44|         PLANT_ID|   PushedFilters|        6.0|\n|     default|         plant_v0r44|          UP_DATE|PartitionFilters|        6.0|\n|     default|             queries|  physicalPlanKey|   PushedFilters|       15.0|\n+------------+--------------------+-----------------+----------------+-----------+\n\n"
     ]
    }
   ],
   "source": [
    "method_output = (\n",
    "    weighted_operations.groupBy(\"databaseName\", \"tableName\", \"columnName\")\n",
    "    .agg(F.sum(\"weight\").alias(\"weightedSum\"))\n",
    "    .orderBy(\"databaseName\", \"tableName\", \"columnName\")\n",
    ")\n",
    "\n",
    "method_output.show()"
   ]
  },
  {
   "cell_type": "markdown",
   "metadata": {
    "application/vnd.databricks.v1+cell": {
     "cellMetadata": {
      "byteLimit": 2048000,
      "rowLimit": 10000
     },
     "inputWidgets": {},
     "nuid": "9fdf2d5a-af64-48a5-b391-24f7316787e6",
     "showTitle": false,
     "title": ""
    }
   },
   "source": [
    "### 3.3 Create Columns Needed for the method_results Table"
   ]
  },
  {
   "cell_type": "code",
   "execution_count": 0,
   "metadata": {
    "application/vnd.databricks.v1+cell": {
     "cellMetadata": {
      "byteLimit": 2048000,
      "rowLimit": 10000
     },
     "inputWidgets": {},
     "nuid": "2a8fc8f9-a05c-49ce-b1ed-f91a5c2c7c3f",
     "showTitle": false,
     "title": ""
    }
   },
   "outputs": [
    {
     "output_type": "stream",
     "name": "stdout",
     "output_type": "stream",
     "text": [
      "+------------+--------------------+-----------------+-----------+-------------+-----+\n|databaseName|           tableName|       columnName|methodValue|isPartitioned|runId|\n+------------+--------------------+-----------------+-----------+-------------+-----+\n|     default|        eventlog_raw|        clusterID|       1.25|        false|    3|\n|     default|        eventlog_raw|clusterInstanceID|      183.5|        false|    3|\n|     default|        eventlog_raw|      eventlogKey|        6.5|        false|    3|\n|     default|        eventlog_raw|     lastModified|      350.0|        false|    3|\n|     default|        eventlog_raw|   sparkContextID|      169.0|        false|    3|\n|     default|monthly_global_oi...|        countryId|        1.0|        false|    3|\n|     default|monthly_global_oi...|      countryName|        3.0|        false|    3|\n|     default|monthly_global_oi...|        countryId|        1.0|        false|    3|\n|     default|monthly_global_oi...|      countryName|        3.5|        false|    3|\n|     default|monthly_global_oi...|         etl_year|        0.5|         true|    3|\n|     default|monthly_global_oi...|        countryId|       0.25|        false|    3|\n|     default|          operations|      eventlogKey|       17.0|        false|    3|\n|     default|          operations|    operationName|        2.5|        false|    3|\n|     default|  physical_plan_keys|  physicalPlanKey|       28.5|        false|    3|\n|     default|         plant_v0r44|         PLANT_ID|        6.0|        false|    3|\n|     default|         plant_v0r44|          UP_DATE|        6.0|         true|    3|\n|     default|             queries|  physicalPlanKey|       15.0|        false|    3|\n+------------+--------------------+-----------------+-----------+-------------+-----+\n\n"
     ]
    }
   ],
   "source": [
    "method_results = (\n",
    "    method_output.withColumn(\n",
    "        \"methodValue\", F.col(\"weightedSum\")\n",
    "    ).withColumn(\"methodValue\", F.col(\"methodValue\").cast('float'))\n",
    ").drop(\"occurrences\")\n",
    "\n",
    "# join on is_partitioned dataframe to check if columns is partitioned or not\n",
    "# note: this is based on the last occurence of the filter in the operations table\n",
    "method_results = method_results.join(\n",
    "    is_partitioned, on=[\"databaseName\", \"tableName\", \"columnName\"]\n",
    ")\n",
    "\n",
    "method_results = method_results.withColumn(\"runId\", F.lit(runId)).select(\n",
    "    \"databaseName\",\n",
    "    \"tableName\",\n",
    "    \"columnName\",\n",
    "    \"methodValue\",\n",
    "    \"isPartitioned\",\n",
    "    \"runId\",\n",
    ")\n",
    "\n",
    "method_results.show()"
   ]
  },
  {
   "cell_type": "markdown",
   "metadata": {
    "application/vnd.databricks.v1+cell": {
     "cellMetadata": {
      "byteLimit": 2048000,
      "rowLimit": 10000
     },
     "inputWidgets": {},
     "nuid": "a1100822-a7a2-4e1a-96ac-c49f7ff2e391",
     "showTitle": false,
     "title": ""
    }
   },
   "source": [
    "### 3.4 Find recommendations Based on the Column with the Highest methodValue per db-table"
   ]
  },
  {
   "cell_type": "code",
   "execution_count": 0,
   "metadata": {
    "application/vnd.databricks.v1+cell": {
     "cellMetadata": {
      "byteLimit": 2048000,
      "rowLimit": 10000
     },
     "inputWidgets": {},
     "nuid": "3e1e53cc-99cc-401c-8a81-590948cbd55f",
     "showTitle": false,
     "title": ""
    }
   },
   "outputs": [
    {
     "output_type": "stream",
     "name": "stdout",
     "output_type": "stream",
     "text": [
      "+------------+--------------------------------------------------+---------------+-----------+-------------+-----+\n|databaseName|tableName                                         |columnName     |methodValue|isPartitioned|runId|\n+------------+--------------------------------------------------+---------------+-----------+-------------+-----+\n|default     |eventlog_raw                                      |lastModified   |350.0      |false        |3    |\n|default     |monthly_global_oil_demand_forecast_countries_v0r0 |countryName    |3.0        |false        |3    |\n|default     |monthly_global_oil_demand_forecast_countries_v0r42|countryName    |3.5        |false        |3    |\n|default     |monthly_global_oil_demand_forecast_countries_v0r44|countryId      |0.25       |false        |3    |\n|default     |operations                                        |eventlogKey    |17.0       |false        |3    |\n|default     |physical_plan_keys                                |physicalPlanKey|28.5       |false        |3    |\n|default     |plant_v0r44                                       |UP_DATE        |6.0        |true         |3    |\n|default     |queries                                           |physicalPlanKey|15.0       |false        |3    |\n+------------+--------------------------------------------------+---------------+-----------+-------------+-----+\n\n"
     ]
    }
   ],
   "source": [
    "method_recommendations = (\n",
    "    method_results.groupBy(\"databaseName\", \"tableName\")\n",
    "    .agg(\n",
    "        F.max(F.struct(\"methodValue\", \"columnName\", \"isPartitioned\")).alias(\n",
    "            \"max_methodValue_colName_isPartitioned\"\n",
    "        )\n",
    "    )\n",
    "    .select(\n",
    "        \"databaseName\",\n",
    "        \"tableName\",\n",
    "        \"max_methodValue_colName_isPartitioned.columnName\",\n",
    "        \"max_methodValue_colName_isPartitioned.methodValue\",\n",
    "        \"max_methodValue_colName_isPartitioned.isPartitioned\",\n",
    "    )\n",
    "    .withColumn(\"runId\", F.lit(runId))\n",
    "    .withColumnRenamed(\"max_methodValue_colName_isPartitioned.columnName\", \"columnName\")\n",
    "    .withColumnRenamed(\n",
    "        \"max_methodValue_colName_isPartitioned.methodValue\", \"methodValue\"\n",
    "    )\n",
    "    .withColumnRenamed(\n",
    "        \"max_methodValue_colName_isPartitioned.isPartitioned\", \"isPartitioned\"\n",
    "    )\n",
    ")\n",
    "\n",
    "method_recommendations.show(truncate=False)"
   ]
  },
  {
   "cell_type": "markdown",
   "metadata": {
    "application/vnd.databricks.v1+cell": {
     "cellMetadata": {
      "byteLimit": 2048000,
      "rowLimit": 10000
     },
     "inputWidgets": {},
     "nuid": "2c1bb623-1b76-4560-9d2a-fb45230a1339",
     "showTitle": false,
     "title": ""
    }
   },
   "source": [
    "### 4. Save Data to Tables"
   ]
  },
  {
   "cell_type": "code",
   "execution_count": 0,
   "metadata": {
    "application/vnd.databricks.v1+cell": {
     "cellMetadata": {
      "byteLimit": 2048000,
      "rowLimit": 10000
     },
     "inputWidgets": {},
     "nuid": "dfaf7a13-69bd-4ec4-9013-0270e9fee727",
     "showTitle": false,
     "title": ""
    }
   },
   "outputs": [],
   "source": [
    "# write method_runs information\n",
    "method_run.write.format(\"delta\").mode(\"append\").saveAsTable(\"method_runs\")\n",
    "\n",
    "# write method_results information\n",
    "method_results.write.format(\"delta\").mode(\"append\").saveAsTable(\"method_results\")\n",
    "\n",
    "# write method_recommendation information\n",
    "method_recommendations.write.format(\"delta\").mode(\"append\").saveAsTable(\"method_recommendations\")"
   ]
  },
  {
   "cell_type": "code",
   "execution_count": 0,
   "metadata": {
    "application/vnd.databricks.v1+cell": {
     "cellMetadata": {
      "byteLimit": 2048000,
      "implicitDf": true,
      "rowLimit": 10000
     },
     "inputWidgets": {},
     "nuid": "88b8f50e-c5b4-44d4-9119-59202fc579bd",
     "showTitle": false,
     "title": ""
    }
   },
   "outputs": [
    {
     "output_type": "display_data",
     "data": {
      "text/html": [
       "<style scoped>\n",
       "  .table-result-container {\n",
       "    max-height: 300px;\n",
       "    overflow: auto;\n",
       "  }\n",
       "  table, th, td {\n",
       "    border: 1px solid black;\n",
       "    border-collapse: collapse;\n",
       "  }\n",
       "  th, td {\n",
       "    padding: 5px;\n",
       "  }\n",
       "  th {\n",
       "    text-align: left;\n",
       "  }\n",
       "</style><div class='table-result-container'><table class='table-result'><thead style='background-color: white'><tr><th>runId</th><th>methodName</th><th>params</th><th>fromTime</th><th>toTime</th><th>whenRun</th></tr></thead><tbody><tr><td>3</td><td>stepwiseWeightedCount</td><td>{\"num_steps\": 4, \"weights\": [0.25, 0.5, 0.75, 1.0], \"windowStart\": 1680175696003, \"windowEnd\": 1682594896003, \"windowSize\": 4.0}</td><td>2023-03-30T11:28:16.003+0000</td><td>2023-04-27T11:28:16.003+0000</td><td>2023-04-27T11:28:17.118+0000</td></tr><tr><td>2</td><td>weightedCount</td><td>{\"max_weight\": 1.0, \"min_weight\": 0.0, \"windowStart\": 1680175669202, \"windowEnd\": 1682594869202, \"windowSize\": 4.0}</td><td>2023-03-30T11:27:49.202+0000</td><td>2023-04-27T11:27:49.202+0000</td><td>2023-04-27T11:27:50.275+0000</td></tr><tr><td>1</td><td>simpleCount</td><td>{\"windowStart\": 1680175636634, \"windowEnd\": 1682594836634, \"windowSize\": 4.0}</td><td>2023-03-30T11:27:16.634+0000</td><td>2023-04-27T11:27:16.634+0000</td><td>2023-04-27T11:27:17.713+0000</td></tr></tbody></table></div>"
      ]
     },
     "metadata": {
      "application/vnd.databricks.v1+output": {
       "addedWidgets": {},
       "aggData": [],
       "aggError": "",
       "aggOverflow": false,
       "aggSchema": [],
       "aggSeriesLimitReached": false,
       "aggType": "",
       "arguments": {},
       "columnCustomDisplayInfos": {},
       "data": [
        [
         3,
         "stepwiseWeightedCount",
         "{\"num_steps\": 4, \"weights\": [0.25, 0.5, 0.75, 1.0], \"windowStart\": 1680175696003, \"windowEnd\": 1682594896003, \"windowSize\": 4.0}",
         "2023-03-30T11:28:16.003+0000",
         "2023-04-27T11:28:16.003+0000",
         "2023-04-27T11:28:17.118+0000"
        ],
        [
         2,
         "weightedCount",
         "{\"max_weight\": 1.0, \"min_weight\": 0.0, \"windowStart\": 1680175669202, \"windowEnd\": 1682594869202, \"windowSize\": 4.0}",
         "2023-03-30T11:27:49.202+0000",
         "2023-04-27T11:27:49.202+0000",
         "2023-04-27T11:27:50.275+0000"
        ],
        [
         1,
         "simpleCount",
         "{\"windowStart\": 1680175636634, \"windowEnd\": 1682594836634, \"windowSize\": 4.0}",
         "2023-03-30T11:27:16.634+0000",
         "2023-04-27T11:27:16.634+0000",
         "2023-04-27T11:27:17.713+0000"
        ]
       ],
       "datasetInfos": [],
       "dbfsResultPath": null,
       "isJsonSchema": true,
       "metadata": {},
       "overflow": false,
       "plotOptions": {
        "customPlotOptions": {},
        "displayType": "table",
        "pivotAggregation": null,
        "pivotColumns": null,
        "xColumns": null,
        "yColumns": null
       },
       "removedWidgets": [],
       "schema": [
        {
         "metadata": "{}",
         "name": "runId",
         "type": "\"integer\""
        },
        {
         "metadata": "{}",
         "name": "methodName",
         "type": "\"string\""
        },
        {
         "metadata": "{}",
         "name": "params",
         "type": "\"string\""
        },
        {
         "metadata": "{}",
         "name": "fromTime",
         "type": "\"timestamp\""
        },
        {
         "metadata": "{}",
         "name": "toTime",
         "type": "\"timestamp\""
        },
        {
         "metadata": "{}",
         "name": "whenRun",
         "type": "\"timestamp\""
        }
       ],
       "type": "table"
      }
     },
     "output_type": "display_data"
    }
   ],
   "source": [
    "%sql\n",
    "select\n",
    "  *\n",
    "from\n",
    "  method_runs"
   ]
  },
  {
   "cell_type": "code",
   "execution_count": 0,
   "metadata": {
    "application/vnd.databricks.v1+cell": {
     "cellMetadata": {
      "byteLimit": 2048000,
      "implicitDf": true,
      "rowLimit": 10000
     },
     "inputWidgets": {},
     "nuid": "e76cc965-fb65-4695-b4f8-32521dd5b386",
     "showTitle": false,
     "title": ""
    }
   },
   "outputs": [
    {
     "output_type": "display_data",
     "data": {
      "text/html": [
       "<style scoped>\n",
       "  .table-result-container {\n",
       "    max-height: 300px;\n",
       "    overflow: auto;\n",
       "  }\n",
       "  table, th, td {\n",
       "    border: 1px solid black;\n",
       "    border-collapse: collapse;\n",
       "  }\n",
       "  th, td {\n",
       "    padding: 5px;\n",
       "  }\n",
       "  th {\n",
       "    text-align: left;\n",
       "  }\n",
       "</style><div class='table-result-container'><table class='table-result'><thead style='background-color: white'><tr><th>runId</th><th>databaseName</th><th>tableName</th><th>columnName</th><th>methodValue</th><th>isPartitioned</th></tr></thead><tbody><tr><td>2</td><td>default</td><td>eventlog_raw</td><td>clusterID</td><td>0.4834634</td><td>false</td></tr><tr><td>2</td><td>default</td><td>eventlog_raw</td><td>clusterInstanceID</td><td>163.97874</td><td>false</td></tr><tr><td>2</td><td>default</td><td>eventlog_raw</td><td>eventlogKey</td><td>5.790529</td><td>false</td></tr><tr><td>2</td><td>default</td><td>eventlog_raw</td><td>lastModified</td><td>273.69455</td><td>false</td></tr><tr><td>2</td><td>default</td><td>eventlog_raw</td><td>sparkContextID</td><td>151.5088</td><td>false</td></tr><tr><td>2</td><td>default</td><td>monthly_global_oil_demand_forecast_countries_v0r0</td><td>countryId</td><td>0.58949775</td><td>false</td></tr><tr><td>2</td><td>default</td><td>monthly_global_oil_demand_forecast_countries_v0r0</td><td>countryName</td><td>2.532083</td><td>false</td></tr><tr><td>2</td><td>default</td><td>monthly_global_oil_demand_forecast_countries_v0r42</td><td>countryId</td><td>0.5504397</td><td>false</td></tr><tr><td>2</td><td>default</td><td>monthly_global_oil_demand_forecast_countries_v0r42</td><td>countryName</td><td>2.826852</td><td>false</td></tr><tr><td>2</td><td>default</td><td>monthly_global_oil_demand_forecast_countries_v0r42</td><td>etl_year</td><td>0.49614263</td><td>true</td></tr><tr><td>2</td><td>default</td><td>monthly_global_oil_demand_forecast_countries_v0r44</td><td>countryId</td><td>0.10836927</td><td>false</td></tr><tr><td>2</td><td>default</td><td>operations</td><td>eventlogKey</td><td>15.213155</td><td>false</td></tr><tr><td>2</td><td>default</td><td>operations</td><td>operationName</td><td>2.1491592</td><td>false</td></tr><tr><td>2</td><td>default</td><td>physical_plan_keys</td><td>physicalPlanKey</td><td>25.728012</td><td>false</td></tr><tr><td>2</td><td>default</td><td>plant_v0r44</td><td>PLANT_ID</td><td>5.22518</td><td>false</td></tr><tr><td>2</td><td>default</td><td>plant_v0r44</td><td>UP_DATE</td><td>5.22518</td><td>true</td></tr><tr><td>2</td><td>default</td><td>queries</td><td>physicalPlanKey</td><td>12.816604</td><td>false</td></tr><tr><td>3</td><td>default</td><td>eventlog_raw</td><td>clusterID</td><td>1.25</td><td>false</td></tr><tr><td>3</td><td>default</td><td>eventlog_raw</td><td>clusterInstanceID</td><td>183.5</td><td>false</td></tr><tr><td>3</td><td>default</td><td>eventlog_raw</td><td>eventlogKey</td><td>6.5</td><td>false</td></tr><tr><td>3</td><td>default</td><td>eventlog_raw</td><td>lastModified</td><td>350.0</td><td>false</td></tr><tr><td>3</td><td>default</td><td>eventlog_raw</td><td>sparkContextID</td><td>169.0</td><td>false</td></tr><tr><td>3</td><td>default</td><td>monthly_global_oil_demand_forecast_countries_v0r0</td><td>countryId</td><td>1.0</td><td>false</td></tr><tr><td>3</td><td>default</td><td>monthly_global_oil_demand_forecast_countries_v0r0</td><td>countryName</td><td>3.0</td><td>false</td></tr><tr><td>3</td><td>default</td><td>monthly_global_oil_demand_forecast_countries_v0r42</td><td>countryId</td><td>1.0</td><td>false</td></tr><tr><td>3</td><td>default</td><td>monthly_global_oil_demand_forecast_countries_v0r42</td><td>countryName</td><td>3.5</td><td>false</td></tr><tr><td>3</td><td>default</td><td>monthly_global_oil_demand_forecast_countries_v0r42</td><td>etl_year</td><td>0.5</td><td>true</td></tr><tr><td>3</td><td>default</td><td>monthly_global_oil_demand_forecast_countries_v0r44</td><td>countryId</td><td>0.25</td><td>false</td></tr><tr><td>3</td><td>default</td><td>operations</td><td>eventlogKey</td><td>17.0</td><td>false</td></tr><tr><td>3</td><td>default</td><td>operations</td><td>operationName</td><td>2.5</td><td>false</td></tr><tr><td>3</td><td>default</td><td>physical_plan_keys</td><td>physicalPlanKey</td><td>28.5</td><td>false</td></tr><tr><td>3</td><td>default</td><td>plant_v0r44</td><td>PLANT_ID</td><td>6.0</td><td>false</td></tr><tr><td>3</td><td>default</td><td>plant_v0r44</td><td>UP_DATE</td><td>6.0</td><td>true</td></tr><tr><td>3</td><td>default</td><td>queries</td><td>physicalPlanKey</td><td>15.0</td><td>false</td></tr><tr><td>1</td><td>default</td><td>eventlog_raw</td><td>clusterID</td><td>5.0</td><td>false</td></tr><tr><td>1</td><td>default</td><td>eventlog_raw</td><td>clusterInstanceID</td><td>311.0</td><td>false</td></tr><tr><td>1</td><td>default</td><td>eventlog_raw</td><td>eventlogKey</td><td>10.0</td><td>false</td></tr><tr><td>1</td><td>default</td><td>eventlog_raw</td><td>lastModified</td><td>673.0</td><td>false</td></tr><tr><td>1</td><td>default</td><td>eventlog_raw</td><td>sparkContextID</td><td>282.0</td><td>false</td></tr><tr><td>1</td><td>default</td><td>monthly_global_oil_demand_forecast_countries_v0r0</td><td>countryId</td><td>4.0</td><td>false</td></tr><tr><td>1</td><td>default</td><td>monthly_global_oil_demand_forecast_countries_v0r0</td><td>countryName</td><td>12.0</td><td>false</td></tr><tr><td>1</td><td>default</td><td>monthly_global_oil_demand_forecast_countries_v0r42</td><td>countryId</td><td>4.0</td><td>false</td></tr><tr><td>1</td><td>default</td><td>monthly_global_oil_demand_forecast_countries_v0r42</td><td>countryName</td><td>14.0</td><td>false</td></tr><tr><td>1</td><td>default</td><td>monthly_global_oil_demand_forecast_countries_v0r42</td><td>etl_year</td><td>2.0</td><td>true</td></tr><tr><td>1</td><td>default</td><td>monthly_global_oil_demand_forecast_countries_v0r44</td><td>countryId</td><td>1.0</td><td>false</td></tr><tr><td>1</td><td>default</td><td>operations</td><td>eventlogKey</td><td>27.0</td><td>false</td></tr><tr><td>1</td><td>default</td><td>operations</td><td>operationName</td><td>5.0</td><td>false</td></tr><tr><td>1</td><td>default</td><td>physical_plan_keys</td><td>physicalPlanKey</td><td>49.0</td><td>false</td></tr><tr><td>1</td><td>default</td><td>plant_v0r44</td><td>PLANT_ID</td><td>23.0</td><td>false</td></tr><tr><td>1</td><td>default</td><td>plant_v0r44</td><td>UP_DATE</td><td>23.0</td><td>true</td></tr><tr><td>1</td><td>default</td><td>queries</td><td>physicalPlanKey</td><td>20.0</td><td>false</td></tr></tbody></table></div>"
      ]
     },
     "metadata": {
      "application/vnd.databricks.v1+output": {
       "addedWidgets": {},
       "aggData": [],
       "aggError": "",
       "aggOverflow": false,
       "aggSchema": [],
       "aggSeriesLimitReached": false,
       "aggType": "",
       "arguments": {},
       "columnCustomDisplayInfos": {},
       "data": [
        [
         2,
         "default",
         "eventlog_raw",
         "clusterID",
         0.4834634,
         false
        ],
        [
         2,
         "default",
         "eventlog_raw",
         "clusterInstanceID",
         163.97874,
         false
        ],
        [
         2,
         "default",
         "eventlog_raw",
         "eventlogKey",
         5.790529,
         false
        ],
        [
         2,
         "default",
         "eventlog_raw",
         "lastModified",
         273.69455,
         false
        ],
        [
         2,
         "default",
         "eventlog_raw",
         "sparkContextID",
         151.5088,
         false
        ],
        [
         2,
         "default",
         "monthly_global_oil_demand_forecast_countries_v0r0",
         "countryId",
         0.58949775,
         false
        ],
        [
         2,
         "default",
         "monthly_global_oil_demand_forecast_countries_v0r0",
         "countryName",
         2.532083,
         false
        ],
        [
         2,
         "default",
         "monthly_global_oil_demand_forecast_countries_v0r42",
         "countryId",
         0.5504397,
         false
        ],
        [
         2,
         "default",
         "monthly_global_oil_demand_forecast_countries_v0r42",
         "countryName",
         2.826852,
         false
        ],
        [
         2,
         "default",
         "monthly_global_oil_demand_forecast_countries_v0r42",
         "etl_year",
         0.49614263,
         true
        ],
        [
         2,
         "default",
         "monthly_global_oil_demand_forecast_countries_v0r44",
         "countryId",
         0.10836927,
         false
        ],
        [
         2,
         "default",
         "operations",
         "eventlogKey",
         15.213155,
         false
        ],
        [
         2,
         "default",
         "operations",
         "operationName",
         2.1491592,
         false
        ],
        [
         2,
         "default",
         "physical_plan_keys",
         "physicalPlanKey",
         25.728012,
         false
        ],
        [
         2,
         "default",
         "plant_v0r44",
         "PLANT_ID",
         5.22518,
         false
        ],
        [
         2,
         "default",
         "plant_v0r44",
         "UP_DATE",
         5.22518,
         true
        ],
        [
         2,
         "default",
         "queries",
         "physicalPlanKey",
         12.816604,
         false
        ],
        [
         3,
         "default",
         "eventlog_raw",
         "clusterID",
         1.25,
         false
        ],
        [
         3,
         "default",
         "eventlog_raw",
         "clusterInstanceID",
         183.5,
         false
        ],
        [
         3,
         "default",
         "eventlog_raw",
         "eventlogKey",
         6.5,
         false
        ],
        [
         3,
         "default",
         "eventlog_raw",
         "lastModified",
         350.0,
         false
        ],
        [
         3,
         "default",
         "eventlog_raw",
         "sparkContextID",
         169.0,
         false
        ],
        [
         3,
         "default",
         "monthly_global_oil_demand_forecast_countries_v0r0",
         "countryId",
         1.0,
         false
        ],
        [
         3,
         "default",
         "monthly_global_oil_demand_forecast_countries_v0r0",
         "countryName",
         3.0,
         false
        ],
        [
         3,
         "default",
         "monthly_global_oil_demand_forecast_countries_v0r42",
         "countryId",
         1.0,
         false
        ],
        [
         3,
         "default",
         "monthly_global_oil_demand_forecast_countries_v0r42",
         "countryName",
         3.5,
         false
        ],
        [
         3,
         "default",
         "monthly_global_oil_demand_forecast_countries_v0r42",
         "etl_year",
         0.5,
         true
        ],
        [
         3,
         "default",
         "monthly_global_oil_demand_forecast_countries_v0r44",
         "countryId",
         0.25,
         false
        ],
        [
         3,
         "default",
         "operations",
         "eventlogKey",
         17.0,
         false
        ],
        [
         3,
         "default",
         "operations",
         "operationName",
         2.5,
         false
        ],
        [
         3,
         "default",
         "physical_plan_keys",
         "physicalPlanKey",
         28.5,
         false
        ],
        [
         3,
         "default",
         "plant_v0r44",
         "PLANT_ID",
         6.0,
         false
        ],
        [
         3,
         "default",
         "plant_v0r44",
         "UP_DATE",
         6.0,
         true
        ],
        [
         3,
         "default",
         "queries",
         "physicalPlanKey",
         15.0,
         false
        ],
        [
         1,
         "default",
         "eventlog_raw",
         "clusterID",
         5.0,
         false
        ],
        [
         1,
         "default",
         "eventlog_raw",
         "clusterInstanceID",
         311.0,
         false
        ],
        [
         1,
         "default",
         "eventlog_raw",
         "eventlogKey",
         10.0,
         false
        ],
        [
         1,
         "default",
         "eventlog_raw",
         "lastModified",
         673.0,
         false
        ],
        [
         1,
         "default",
         "eventlog_raw",
         "sparkContextID",
         282.0,
         false
        ],
        [
         1,
         "default",
         "monthly_global_oil_demand_forecast_countries_v0r0",
         "countryId",
         4.0,
         false
        ],
        [
         1,
         "default",
         "monthly_global_oil_demand_forecast_countries_v0r0",
         "countryName",
         12.0,
         false
        ],
        [
         1,
         "default",
         "monthly_global_oil_demand_forecast_countries_v0r42",
         "countryId",
         4.0,
         false
        ],
        [
         1,
         "default",
         "monthly_global_oil_demand_forecast_countries_v0r42",
         "countryName",
         14.0,
         false
        ],
        [
         1,
         "default",
         "monthly_global_oil_demand_forecast_countries_v0r42",
         "etl_year",
         2.0,
         true
        ],
        [
         1,
         "default",
         "monthly_global_oil_demand_forecast_countries_v0r44",
         "countryId",
         1.0,
         false
        ],
        [
         1,
         "default",
         "operations",
         "eventlogKey",
         27.0,
         false
        ],
        [
         1,
         "default",
         "operations",
         "operationName",
         5.0,
         false
        ],
        [
         1,
         "default",
         "physical_plan_keys",
         "physicalPlanKey",
         49.0,
         false
        ],
        [
         1,
         "default",
         "plant_v0r44",
         "PLANT_ID",
         23.0,
         false
        ],
        [
         1,
         "default",
         "plant_v0r44",
         "UP_DATE",
         23.0,
         true
        ],
        [
         1,
         "default",
         "queries",
         "physicalPlanKey",
         20.0,
         false
        ]
       ],
       "datasetInfos": [],
       "dbfsResultPath": null,
       "isJsonSchema": true,
       "metadata": {},
       "overflow": false,
       "plotOptions": {
        "customPlotOptions": {},
        "displayType": "table",
        "pivotAggregation": null,
        "pivotColumns": null,
        "xColumns": null,
        "yColumns": null
       },
       "removedWidgets": [],
       "schema": [
        {
         "metadata": "{}",
         "name": "runId",
         "type": "\"integer\""
        },
        {
         "metadata": "{}",
         "name": "databaseName",
         "type": "\"string\""
        },
        {
         "metadata": "{}",
         "name": "tableName",
         "type": "\"string\""
        },
        {
         "metadata": "{}",
         "name": "columnName",
         "type": "\"string\""
        },
        {
         "metadata": "{}",
         "name": "methodValue",
         "type": "\"float\""
        },
        {
         "metadata": "{}",
         "name": "isPartitioned",
         "type": "\"boolean\""
        }
       ],
       "type": "table"
      }
     },
     "output_type": "display_data"
    }
   ],
   "source": [
    "%sql\n",
    "select\n",
    "  *\n",
    "from\n",
    "  method_results\n"
   ]
  },
  {
   "cell_type": "code",
   "execution_count": 0,
   "metadata": {
    "application/vnd.databricks.v1+cell": {
     "cellMetadata": {
      "byteLimit": 2048000,
      "implicitDf": true,
      "rowLimit": 10000
     },
     "inputWidgets": {},
     "nuid": "62bbfb8a-ae9b-49c6-983e-b69c0125a80f",
     "showTitle": false,
     "title": ""
    }
   },
   "outputs": [
    {
     "output_type": "display_data",
     "data": {
      "text/html": [
       "<style scoped>\n",
       "  .table-result-container {\n",
       "    max-height: 300px;\n",
       "    overflow: auto;\n",
       "  }\n",
       "  table, th, td {\n",
       "    border: 1px solid black;\n",
       "    border-collapse: collapse;\n",
       "  }\n",
       "  th, td {\n",
       "    padding: 5px;\n",
       "  }\n",
       "  th {\n",
       "    text-align: left;\n",
       "  }\n",
       "</style><div class='table-result-container'><table class='table-result'><thead style='background-color: white'><tr><th>runId</th><th>databaseName</th><th>tableName</th><th>columnName</th><th>methodValue</th><th>isPartitioned</th></tr></thead><tbody><tr><td>1</td><td>default</td><td>eventlog_raw</td><td>lastModified</td><td>673.0</td><td>false</td></tr><tr><td>1</td><td>default</td><td>monthly_global_oil_demand_forecast_countries_v0r0</td><td>countryName</td><td>12.0</td><td>false</td></tr><tr><td>1</td><td>default</td><td>monthly_global_oil_demand_forecast_countries_v0r42</td><td>countryName</td><td>14.0</td><td>false</td></tr><tr><td>1</td><td>default</td><td>monthly_global_oil_demand_forecast_countries_v0r44</td><td>countryId</td><td>1.0</td><td>false</td></tr><tr><td>1</td><td>default</td><td>operations</td><td>eventlogKey</td><td>27.0</td><td>false</td></tr><tr><td>1</td><td>default</td><td>physical_plan_keys</td><td>physicalPlanKey</td><td>49.0</td><td>false</td></tr><tr><td>1</td><td>default</td><td>plant_v0r44</td><td>UP_DATE</td><td>23.0</td><td>true</td></tr><tr><td>1</td><td>default</td><td>queries</td><td>physicalPlanKey</td><td>20.0</td><td>false</td></tr><tr><td>2</td><td>default</td><td>eventlog_raw</td><td>lastModified</td><td>273.69455</td><td>false</td></tr><tr><td>2</td><td>default</td><td>monthly_global_oil_demand_forecast_countries_v0r0</td><td>countryName</td><td>2.532083</td><td>false</td></tr><tr><td>2</td><td>default</td><td>monthly_global_oil_demand_forecast_countries_v0r42</td><td>countryName</td><td>2.826852</td><td>false</td></tr><tr><td>2</td><td>default</td><td>monthly_global_oil_demand_forecast_countries_v0r44</td><td>countryId</td><td>0.10836927</td><td>false</td></tr><tr><td>2</td><td>default</td><td>operations</td><td>eventlogKey</td><td>15.213155</td><td>false</td></tr><tr><td>2</td><td>default</td><td>physical_plan_keys</td><td>physicalPlanKey</td><td>25.728012</td><td>false</td></tr><tr><td>2</td><td>default</td><td>plant_v0r44</td><td>UP_DATE</td><td>5.22518</td><td>true</td></tr><tr><td>2</td><td>default</td><td>queries</td><td>physicalPlanKey</td><td>12.816604</td><td>false</td></tr><tr><td>3</td><td>default</td><td>eventlog_raw</td><td>lastModified</td><td>350.0</td><td>false</td></tr><tr><td>3</td><td>default</td><td>monthly_global_oil_demand_forecast_countries_v0r0</td><td>countryName</td><td>3.0</td><td>false</td></tr><tr><td>3</td><td>default</td><td>monthly_global_oil_demand_forecast_countries_v0r42</td><td>countryName</td><td>3.5</td><td>false</td></tr><tr><td>3</td><td>default</td><td>monthly_global_oil_demand_forecast_countries_v0r44</td><td>countryId</td><td>0.25</td><td>false</td></tr><tr><td>3</td><td>default</td><td>operations</td><td>eventlogKey</td><td>17.0</td><td>false</td></tr><tr><td>3</td><td>default</td><td>physical_plan_keys</td><td>physicalPlanKey</td><td>28.5</td><td>false</td></tr><tr><td>3</td><td>default</td><td>plant_v0r44</td><td>UP_DATE</td><td>6.0</td><td>true</td></tr><tr><td>3</td><td>default</td><td>queries</td><td>physicalPlanKey</td><td>15.0</td><td>false</td></tr></tbody></table></div>"
      ]
     },
     "metadata": {
      "application/vnd.databricks.v1+output": {
       "addedWidgets": {},
       "aggData": [],
       "aggError": "",
       "aggOverflow": false,
       "aggSchema": [],
       "aggSeriesLimitReached": false,
       "aggType": "",
       "arguments": {},
       "columnCustomDisplayInfos": {},
       "data": [
        [
         1,
         "default",
         "eventlog_raw",
         "lastModified",
         673.0,
         false
        ],
        [
         1,
         "default",
         "monthly_global_oil_demand_forecast_countries_v0r0",
         "countryName",
         12.0,
         false
        ],
        [
         1,
         "default",
         "monthly_global_oil_demand_forecast_countries_v0r42",
         "countryName",
         14.0,
         false
        ],
        [
         1,
         "default",
         "monthly_global_oil_demand_forecast_countries_v0r44",
         "countryId",
         1.0,
         false
        ],
        [
         1,
         "default",
         "operations",
         "eventlogKey",
         27.0,
         false
        ],
        [
         1,
         "default",
         "physical_plan_keys",
         "physicalPlanKey",
         49.0,
         false
        ],
        [
         1,
         "default",
         "plant_v0r44",
         "UP_DATE",
         23.0,
         true
        ],
        [
         1,
         "default",
         "queries",
         "physicalPlanKey",
         20.0,
         false
        ],
        [
         2,
         "default",
         "eventlog_raw",
         "lastModified",
         273.69455,
         false
        ],
        [
         2,
         "default",
         "monthly_global_oil_demand_forecast_countries_v0r0",
         "countryName",
         2.532083,
         false
        ],
        [
         2,
         "default",
         "monthly_global_oil_demand_forecast_countries_v0r42",
         "countryName",
         2.826852,
         false
        ],
        [
         2,
         "default",
         "monthly_global_oil_demand_forecast_countries_v0r44",
         "countryId",
         0.10836927,
         false
        ],
        [
         2,
         "default",
         "operations",
         "eventlogKey",
         15.213155,
         false
        ],
        [
         2,
         "default",
         "physical_plan_keys",
         "physicalPlanKey",
         25.728012,
         false
        ],
        [
         2,
         "default",
         "plant_v0r44",
         "UP_DATE",
         5.22518,
         true
        ],
        [
         2,
         "default",
         "queries",
         "physicalPlanKey",
         12.816604,
         false
        ],
        [
         3,
         "default",
         "eventlog_raw",
         "lastModified",
         350.0,
         false
        ],
        [
         3,
         "default",
         "monthly_global_oil_demand_forecast_countries_v0r0",
         "countryName",
         3.0,
         false
        ],
        [
         3,
         "default",
         "monthly_global_oil_demand_forecast_countries_v0r42",
         "countryName",
         3.5,
         false
        ],
        [
         3,
         "default",
         "monthly_global_oil_demand_forecast_countries_v0r44",
         "countryId",
         0.25,
         false
        ],
        [
         3,
         "default",
         "operations",
         "eventlogKey",
         17.0,
         false
        ],
        [
         3,
         "default",
         "physical_plan_keys",
         "physicalPlanKey",
         28.5,
         false
        ],
        [
         3,
         "default",
         "plant_v0r44",
         "UP_DATE",
         6.0,
         true
        ],
        [
         3,
         "default",
         "queries",
         "physicalPlanKey",
         15.0,
         false
        ]
       ],
       "datasetInfos": [],
       "dbfsResultPath": null,
       "isJsonSchema": true,
       "metadata": {},
       "overflow": false,
       "plotOptions": {
        "customPlotOptions": {},
        "displayType": "table",
        "pivotAggregation": null,
        "pivotColumns": null,
        "xColumns": null,
        "yColumns": null
       },
       "removedWidgets": [],
       "schema": [
        {
         "metadata": "{}",
         "name": "runId",
         "type": "\"integer\""
        },
        {
         "metadata": "{}",
         "name": "databaseName",
         "type": "\"string\""
        },
        {
         "metadata": "{}",
         "name": "tableName",
         "type": "\"string\""
        },
        {
         "metadata": "{}",
         "name": "columnName",
         "type": "\"string\""
        },
        {
         "metadata": "{}",
         "name": "methodValue",
         "type": "\"float\""
        },
        {
         "metadata": "{}",
         "name": "isPartitioned",
         "type": "\"boolean\""
        }
       ],
       "type": "table"
      }
     },
     "output_type": "display_data"
    }
   ],
   "source": [
    "%sql\n",
    "\n",
    "select\n",
    "  *\n",
    "from\n",
    "  method_recommendations"
   ]
  }
 ],
 "metadata": {
  "application/vnd.databricks.v1+notebook": {
   "dashboards": [],
   "language": "python",
   "notebookMetadata": {
    "mostRecentlyExecutedCommandWithImplicitDF": {
     "commandId": 55458227871502,
     "dataframes": [
      "_sqldf"
     ]
    },
    "pythonIndentUnit": 4
   },
   "notebookName": "RuleBased_stepWeights",
   "widgets": {
    "interval": {
     "currentValue": "4",
     "nuid": "77696057-8660-46ac-bc8e-193fc72efa3d",
     "widgetInfo": {
      "widgetType": "text",
      "defaultValue": "4",
      "label": "Size of interval (weeks) for how much data the methods will use",
      "name": "interval",
      "options": {
       "widgetType": "text",
       "validationRegex": null
      }
     }
    },
    "num_steps": {
     "currentValue": "4",
     "nuid": "3a9327b2-92e4-47e9-bace-d2967fd3d2a5",
     "widgetInfo": {
      "widgetType": "text",
      "defaultValue": "4",
      "label": "num_steps, number of sub-intervals inside the total interval size",
      "name": "num_steps",
      "options": {
       "widgetType": "text",
       "validationRegex": null
      }
     }
    },
    "to_time": {
     "currentValue": "None",
     "nuid": "f9a56d46-87fa-4e9a-8b57-877046700eba",
     "widgetInfo": {
      "widgetType": "text",
      "defaultValue": "None",
      "label": "toTime, End of interval, use \"None\" for time.now(), Format: yyyy-mm-dd HH:MM:SS",
      "name": "to_time",
      "options": {
       "widgetType": "text",
       "validationRegex": null
      }
     }
    },
    "weights": {
     "currentValue": "0.25, 0.5, 0.75, 1",
     "nuid": "838fc1ab-6171-4295-b859-e22f0d3c62cc",
     "widgetInfo": {
      "widgetType": "text",
      "defaultValue": "0.25, 0.5, 0.75, 1",
      "label": "weights, one weight for each sub-interval",
      "name": "weights",
      "options": {
       "widgetType": "text",
       "validationRegex": null
      }
     }
    }
   }
  }
 },
 "nbformat": 4,
 "nbformat_minor": 0
}
