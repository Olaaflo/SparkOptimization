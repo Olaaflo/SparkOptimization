{
 "cells": [
  {
   "cell_type": "code",
   "execution_count": 0,
   "metadata": {
    "application/vnd.databricks.v1+cell": {
     "cellMetadata": {},
     "inputWidgets": {},
     "nuid": "1c2d83d5-d8c5-4a90-a2b2-5011e92b33df",
     "showTitle": false,
     "title": ""
    }
   },
   "outputs": [],
   "source": [
    "from datetime import datetime"
   ]
  },
  {
   "cell_type": "markdown",
   "metadata": {
    "application/vnd.databricks.v1+cell": {
     "cellMetadata": {
      "byteLimit": 2048000,
      "rowLimit": 10000
     },
     "inputWidgets": {},
     "nuid": "b1fde1df-61a1-49e9-80ef-9e70d8f28373",
     "showTitle": false,
     "title": ""
    }
   },
   "source": [
    "#### Function to validate datetime input into notebooks\n",
    "**validate_time_input**(input, format)\n",
    "  * input (string) - string to validate\n",
    "  * format (string) - the expected format (e.g. '%Y-%m-%d %H:%M:%S')"
   ]
  },
  {
   "cell_type": "code",
   "execution_count": 0,
   "metadata": {
    "application/vnd.databricks.v1+cell": {
     "cellMetadata": {
      "byteLimit": 2048000,
      "rowLimit": 10000
     },
     "inputWidgets": {},
     "nuid": "af0159af-b9e5-44fd-83f1-9b4977e58063",
     "showTitle": false,
     "title": ""
    }
   },
   "outputs": [],
   "source": [
    "def validate_time_input(inp, datetime_format):\n",
    "    '''Returns True if the input is valid, False otherwise'''\n",
    "    try:\n",
    "        inp = datetime.strptime(inp, datetime_format)\n",
    "    except Exception:\n",
    "        return False\n",
    "    return True"
   ]
  },
  {
   "cell_type": "code",
   "execution_count": 0,
   "metadata": {
    "application/vnd.databricks.v1+cell": {
     "cellMetadata": {
      "byteLimit": 2048000,
      "rowLimit": 10000
     },
     "inputWidgets": {},
     "nuid": "d4ad7152-a66d-4738-964e-6404332c47b8",
     "showTitle": false,
     "title": ""
    }
   },
   "outputs": [],
   "source": [
    "\n",
    "def test_validate_time_input():\n",
    "    # Valid input test case\n",
    "    inp = '2023-05-01 15:30:00'\n",
    "    datetime_format = '%Y-%m-%d %H:%M:%S'\n",
    "    expected_output = True\n",
    "    assert validate_time_input(inp, datetime_format) == expected_output\n",
    "\n",
    "    # Invalid input test case\n",
    "    inp = '2023-05-01'\n",
    "    datetime_format = '%Y-%m-%d %H:%M:%S'\n",
    "    expected_output = False\n",
    "    assert validate_time_input(inp, datetime_format) == expected_output\n",
    "\n",
    "    # Invalid datetime format test case\n",
    "    inp = '2023-05-01'\n",
    "    datetime_format = '%d-%m-%Y'\n",
    "    expected_output = False\n",
    "    assert validate_time_input(inp, datetime_format) == expected_output\n",
    "\n",
    "test_validate_time_input()"
   ]
  },
  {
   "cell_type": "markdown",
   "metadata": {
    "application/vnd.databricks.v1+cell": {
     "cellMetadata": {
      "byteLimit": 2048000,
      "rowLimit": 10000
     },
     "inputWidgets": {},
     "nuid": "68b73ea4-f641-4c9d-8d11-2e71503144ed",
     "showTitle": false,
     "title": ""
    }
   },
   "source": [
    "#### Function to validate integer/float values\n",
    "**validate_positive_number**(input, gt_zero)\n",
    "  * input (string) - number as string\n",
    "  * gt_zero (bool) - True if you want the number to be >0, false if >=0"
   ]
  },
  {
   "cell_type": "code",
   "execution_count": 0,
   "metadata": {
    "application/vnd.databricks.v1+cell": {
     "cellMetadata": {
      "byteLimit": 2048000,
      "rowLimit": 10000
     },
     "inputWidgets": {},
     "nuid": "ed5a18bb-ddb9-400b-969f-41dcb38e0878",
     "showTitle": false,
     "title": ""
    }
   },
   "outputs": [],
   "source": [
    "def validate_positive_number(i, gt_zero=True):\n",
    "    try:\n",
    "        float(i)\n",
    "    except ValueError:\n",
    "        return False\n",
    "    if gt_zero and float(i) <= 0:\n",
    "        return False\n",
    "    if not gt_zero and float(i) < 0:\n",
    "        return False\n",
    "    return True"
   ]
  },
  {
   "cell_type": "code",
   "execution_count": 0,
   "metadata": {
    "application/vnd.databricks.v1+cell": {
     "cellMetadata": {
      "byteLimit": 2048000,
      "rowLimit": 10000
     },
     "inputWidgets": {},
     "nuid": "0c5df8dd-ae9f-4fce-baea-b96e5fe73756",
     "showTitle": false,
     "title": ""
    }
   },
   "outputs": [],
   "source": [
    "def test_validate_positive_number():\n",
    "    # Test case for positive integer\n",
    "    i = '123'\n",
    "    gt_zero = True\n",
    "    expected_output = True\n",
    "    assert validate_positive_number(i, gt_zero) == expected_output\n",
    "\n",
    "    # Test case for zero\n",
    "    i = '0'\n",
    "    gt_zero = True\n",
    "    expected_output = False\n",
    "    assert validate_positive_number(i, gt_zero) == expected_output\n",
    "\n",
    "    # Test case for negative number\n",
    "    i = '-4.5'\n",
    "    gt_zero = True\n",
    "    expected_output = False\n",
    "    assert validate_positive_number(i, gt_zero) == expected_output\n",
    "\n",
    "test_validate_positive_number()"
   ]
  },
  {
   "cell_type": "markdown",
   "metadata": {
    "application/vnd.databricks.v1+cell": {
     "cellMetadata": {},
     "inputWidgets": {},
     "nuid": "b119c7f2-bf69-4f17-aae2-fec7fe7a7ffe",
     "showTitle": false,
     "title": ""
    }
   },
   "source": [
    "#### Function to validate a csv string\n",
    "**validate_csv_numbers**(cvs_string, item_validator, length, sep)\n",
    "* csv_string (string) - input string\n",
    "* item_validator (function) - function to validate each single item in the csv string\n",
    "* length (int) - expected length of csv string\n",
    "* sep (string) - character you want to use to split the csv string"
   ]
  },
  {
   "cell_type": "code",
   "execution_count": 0,
   "metadata": {
    "application/vnd.databricks.v1+cell": {
     "cellMetadata": {
      "byteLimit": 2048000,
      "rowLimit": 10000
     },
     "inputWidgets": {},
     "nuid": "2641d288-f5fc-4abe-9f1d-08bedcc36c5b",
     "showTitle": false,
     "title": ""
    }
   },
   "outputs": [],
   "source": [
    "def validate_csv_numbers(inp, item_validator, length, sep=','):\n",
    "    numbers = inp.replace(\" \", \"\").split(sep)\n",
    "    if len(numbers) != length:\n",
    "        return False\n",
    "    if not all(item_validator(n) for n in numbers):\n",
    "        return False\n",
    "    return True"
   ]
  },
  {
   "cell_type": "code",
   "execution_count": 0,
   "metadata": {
    "application/vnd.databricks.v1+cell": {
     "cellMetadata": {
      "byteLimit": 2048000,
      "rowLimit": 10000
     },
     "inputWidgets": {},
     "nuid": "2e1c64eb-31cf-45dd-9659-e24977632c3e",
     "showTitle": false,
     "title": ""
    }
   },
   "outputs": [],
   "source": [
    "def test_validate_csv_numbers():\n",
    "    validator = lambda x: validate_positive_number(x, gt_zero=False)\n",
    "\n",
    "    # Test valid input\n",
    "    assert validate_csv_numbers('2,4,6,8', validator, 4) == True\n",
    "    assert validate_csv_numbers('0, 1, 0.5, 3.14, 42', validator, 5) == True\n",
    "    assert validate_csv_numbers('1.5,2.5,3.5', validator, 3) == True\n",
    "    assert validate_csv_numbers('0,0,0,0,0,0', validator, 6) == True\n",
    "\n",
    "    # Test invalid input\n",
    "    assert validate_csv_numbers('', validator, 3) == False\n",
    "    assert validate_csv_numbers('1, 2, a', validator, 3) == False\n",
    "    assert validate_csv_numbers('1,2,3,4', validator, 3) == False\n",
    "    assert validate_csv_numbers('1,2,-3', validator, 3) == False\n",
    "    assert validate_csv_numbers('1,2,3,4', validator, 5) == False\n",
    "    assert validate_csv_numbers('1,2,3', validator, 5) == False\n",
    "\n",
    "test_validate_csv_numbers()"
   ]
  }
 ],
 "metadata": {
  "application/vnd.databricks.v1+notebook": {
   "dashboards": [],
   "language": "python",
   "notebookMetadata": {
    "pythonIndentUnit": 4
   },
   "notebookName": "Validators",
   "widgets": {}
  }
 },
 "nbformat": 4,
 "nbformat_minor": 0
}
