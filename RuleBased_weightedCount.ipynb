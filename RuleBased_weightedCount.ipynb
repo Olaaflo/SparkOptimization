{
 "cells": [
  {
   "cell_type": "markdown",
   "metadata": {
    "application/vnd.databricks.v1+cell": {
     "cellMetadata": {
      "byteLimit": 2048000,
      "rowLimit": 10000
     },
     "inputWidgets": {},
     "nuid": "bb9fa219-0b40-4401-91b7-59b107a32895",
     "showTitle": false,
     "title": ""
    }
   },
   "source": [
    "# Rule Based recommendation Method -  Weighted Count\n",
    "  * A rule based method for partition recommendation\n",
    "  * Multiplies each operation with a weight (based on when it happened) and summs the results for each column\n",
    "  * The **weight** is based on when during the interval the operation happened and is between the **max** and **min** weights  given as parameter to the notebook\n",
    "\n",
    "  \n",
    "`Note: We will also implement this method in a step-based manner`"
   ]
  },
  {
   "cell_type": "code",
   "execution_count": 0,
   "metadata": {
    "application/vnd.databricks.v1+cell": {
     "cellMetadata": {
      "byteLimit": 2048000,
      "rowLimit": 10000
     },
     "inputWidgets": {},
     "nuid": "023b81c3-8700-4cc9-a896-7931bea1b16a",
     "showTitle": false,
     "title": ""
    }
   },
   "outputs": [],
   "source": [
    "import pyspark.sql.functions as F\n",
    "import json\n",
    "from datetime import timedelta, datetime\n",
    "from pyspark.sql.types import (\n",
    "    StructType,\n",
    "    StructField,\n",
    "    IntegerType,\n",
    "    StringType,\n",
    "    TimestampType,\n",
    ")"
   ]
  },
  {
   "cell_type": "markdown",
   "metadata": {
    "application/vnd.databricks.v1+cell": {
     "cellMetadata": {
      "byteLimit": 2048000,
      "rowLimit": 10000
     },
     "inputWidgets": {},
     "nuid": "fc0cca81-8a82-4d2e-9112-53824c6b0927",
     "showTitle": false,
     "title": ""
    }
   },
   "source": [
    "### 1. Inputs\n",
    "* **toTime**: (yyyy-mm-dd HH:MM:SS) from when you want to start the relevant interval (last date)\n",
    "* **interval**: (weeks) how many weeks (starting from toTime and goes backwards) you want to use data\n",
    "* **max_weight**: (float / int) the weight that will be used at the very end of the interval (**newest filters**)\n",
    "* **min_weight**: (float / int) the weight that will be used at the very start of the interval (**oldest filters**)\n",
    "\n",
    "`Note: toTime is the END of the interval`\n",
    "\n",
    "`Note2: may include fromTime (either instead or as well as interval) as a input parameter if we find a purpose for it`"
   ]
  },
  {
   "cell_type": "code",
   "execution_count": 0,
   "metadata": {
    "application/vnd.databricks.v1+cell": {
     "cellMetadata": {
      "byteLimit": 2048000,
      "rowLimit": 10000
     },
     "inputWidgets": {},
     "nuid": "beec2028-2eed-464f-a980-c369a16c1582",
     "showTitle": false,
     "title": ""
    }
   },
   "outputs": [],
   "source": [
    "%run \"./Validators\""
   ]
  },
  {
   "cell_type": "code",
   "execution_count": 0,
   "metadata": {
    "application/vnd.databricks.v1+cell": {
     "cellMetadata": {
      "byteLimit": 2048000,
      "rowLimit": 10000
     },
     "inputWidgets": {},
     "nuid": "ed23f839-8f95-4f9f-8685-94192816c368",
     "showTitle": false,
     "title": ""
    }
   },
   "outputs": [],
   "source": [
    "datetime_format = \"%Y-%m-%d %H:%M:%S\"\n",
    "\n",
    "dbutils.widgets.text(\n",
    "    \"to_time\",\n",
    "    \"None\",\n",
    "    'toTime, End of interval, use \"None\" for time.now(), Format: yyyy-mm-dd HH:MM:SS',\n",
    ")\n",
    "\n",
    "dbutils.widgets.text(\n",
    "    \"interval\", \"4\", \"Size of interval (weeks) for how much data the methods will use\"\n",
    ")\n",
    "\n",
    "dbutils.widgets.text(\n",
    "    \"max_weight\", \"2\", \"max_weight, The weight that will be used for the newest filters\"\n",
    ")\n",
    "\n",
    "dbutils.widgets.text(\n",
    "    \"min_weight\", \"0\", \"min_weight, Weight that will be used for the oldest filters\"\n",
    ")\n",
    "\n",
    "to_time = dbutils.widgets.get(\"to_time\")\n",
    "interval = dbutils.widgets.get(\"interval\")\n",
    "max_weight = dbutils.widgets.get(\"max_weight\")\n",
    "min_weight = dbutils.widgets.get(\"min_weight\")\n",
    "\n",
    "# Because of work flows\n",
    "if to_time == \"None\":\n",
    "    to_time = datetime.now()\n",
    "else:\n",
    "    # function from ./Validators notebook\n",
    "    if validate_time_input(to_time, datetime_format):\n",
    "        to_time = datetime.strptime(to_time, datetime_format)\n",
    "    else:\n",
    "        raise ValueError(\"inputted to_time is not on the right format\")\n",
    "\n",
    "assert validate_positive_number(interval), \"interval is not a valid number > 0\"\n",
    "assert validate_positive_number(max_weight), \"max_weight is not a valid number > 0\"\n",
    "assert validate_positive_number(\n",
    "    min_weight, gt_zero=False\n",
    "), \"min_weight input is not a a valid number >= 0\"\n",
    "\n",
    "interval = float(interval)\n",
    "max_weight = float(max_weight)\n",
    "min_weight = float(min_weight)\n",
    "\n",
    "from_time = to_time - timedelta(weeks=interval)"
   ]
  },
  {
   "cell_type": "markdown",
   "metadata": {
    "application/vnd.databricks.v1+cell": {
     "cellMetadata": {
      "byteLimit": 2048000,
      "rowLimit": 10000
     },
     "inputWidgets": {},
     "nuid": "6c1acfde-38b7-4e8c-ba9f-eb0dcb44f51a",
     "showTitle": false,
     "title": ""
    }
   },
   "source": [
    "#### Tables:\n",
    "* method_runs\n",
    "* method_results\n",
    "* method_recommendations\n",
    "\n",
    "Are already created in the **SetupTables** notebook"
   ]
  },
  {
   "cell_type": "code",
   "execution_count": 0,
   "metadata": {
    "application/vnd.databricks.v1+cell": {
     "cellMetadata": {
      "byteLimit": 2048000,
      "rowLimit": 10000
     },
     "inputWidgets": {},
     "nuid": "dccbf785-4be4-40d8-8ff0-99f0f738eb6b",
     "showTitle": false,
     "title": ""
    }
   },
   "outputs": [],
   "source": [
    "# Schema used to insert into the method_runs table\n",
    "method_runs_schema = StructType(\n",
    "    [\n",
    "        StructField(\"runId\", IntegerType(), nullable=True),\n",
    "        StructField(\"methodName\", StringType(), nullable=True),\n",
    "        StructField(\"params\", StringType(), nullable=True),\n",
    "        StructField(\"fromTime\", TimestampType(), nullable=True),\n",
    "        StructField(\"toTime\", TimestampType(), nullable=True),\n",
    "        StructField(\"whenRun\", TimestampType(), nullable=True),\n",
    "    ]\n",
    ")"
   ]
  },
  {
   "cell_type": "markdown",
   "metadata": {
    "application/vnd.databricks.v1+cell": {
     "cellMetadata": {
      "byteLimit": 2048000,
      "rowLimit": 10000
     },
     "inputWidgets": {},
     "nuid": "fff6747e-d5f6-40fd-8246-db546d2f177d",
     "showTitle": false,
     "title": ""
    }
   },
   "source": [
    "### 2. Preprocessing\n",
    "##### Fetch the data from the operations table and perform the following steps:\n",
    "* Only fetch operations from within the **from_time** and **to_time** input parameters\n",
    "* Ignore the \"Filter\" rows as columns in here seems to already be stored under the \"PushedFilters\" rows\n",
    "* Remove rows with NA values and empty strings (may have happended when extracting the table and database name)"
   ]
  },
  {
   "cell_type": "code",
   "execution_count": 0,
   "metadata": {
    "application/vnd.databricks.v1+cell": {
     "cellMetadata": {
      "byteLimit": 2048000,
      "rowLimit": 10000
     },
     "inputWidgets": {},
     "nuid": "2dd79466-2b91-48e8-83dc-bc9659223d72",
     "showTitle": false,
     "title": ""
    }
   },
   "outputs": [],
   "source": [
    "# Convert from and to-time to the same format as the table\n",
    "from_time_timestamp = int(from_time.timestamp() * 1000)\n",
    "to_time_timestamp = int(to_time.timestamp() * 1000)\n",
    "\n",
    "# Only get data between from and to-date\n",
    "# Remove rows where operation name isn't Filter (end up with PartitionFilters and PushedFilters)\n",
    "operations = (\n",
    "    spark.sql(\"SELECT * FROM operations\")\n",
    "    .filter(F.col(\"timeGenerated\").between(from_time_timestamp, to_time_timestamp))\n",
    "    .filter(F.col(\"operationName\") != \"Filter\")\n",
    ")\n",
    "\n",
    "# Remove empty rows\n",
    "operations = operations.select(\n",
    "    [\n",
    "        F.when(operations[col] == \"\", None).otherwise(operations[col]).alias(col)\n",
    "        for col in operations.columns\n",
    "    ]\n",
    ").dropna(how=\"any\")"
   ]
  },
  {
   "cell_type": "code",
   "execution_count": 0,
   "metadata": {
    "application/vnd.databricks.v1+cell": {
     "cellMetadata": {},
     "inputWidgets": {},
     "nuid": "af14f791-27f8-414c-a229-612a10957b3d",
     "showTitle": false,
     "title": ""
    }
   },
   "outputs": [],
   "source": [
    "# This code is responsible for creating a dataframe where you can check whether a table is partitioned on a particular column\n",
    "# Used as a lookup before writing results to tables after having run some of the methods\n",
    "\n",
    "# Group by databaseName, tableName, columnName and find the max timeGenerated\n",
    "max_time_df = operations.groupBy(\"databaseName\", \"tableName\", \"columnName\").agg(\n",
    "    F.max(\"timeGenerated\").alias(\"maxTimeGenerated\")\n",
    ")\n",
    "\n",
    "\n",
    "# Join the max_time_df with the original dataframe\n",
    "max_time_df = (\n",
    "    operations.join(max_time_df, [\"databaseName\", \"tableName\", \"columnName\"])\n",
    "    .filter(F.col(\"timeGenerated\") == F.col(\"maxTimeGenerated\"))\n",
    "    .groupBy(\"databaseName\", \"tableName\", \"columnName\")\n",
    "    .agg(\n",
    "        F.first(F.col(\"operationName\")).alias(\"operationName\"),\n",
    "    )\n",
    ")\n",
    "\n",
    "\n",
    "is_partitioned = max_time_df.withColumn(\n",
    "    \"isPartitioned\",\n",
    "    F.when(F.col(\"operationName\") == \"PartitionFilters\", True).otherwise(False),\n",
    ").drop(\"operationName\")\n",
    "\n",
    "\n",
    "display(is_partitioned)"
   ]
  },
  {
   "cell_type": "markdown",
   "metadata": {
    "application/vnd.databricks.v1+cell": {
     "cellMetadata": {
      "byteLimit": 2048000,
      "rowLimit": 10000
     },
     "inputWidgets": {},
     "nuid": "f8ec52b1-66ed-47bc-b0c5-646c2d6392ce",
     "showTitle": false,
     "title": ""
    }
   },
   "source": [
    "### 3. Method - weighted count\n",
    "For each databse, table, column; check how often the column is used for filtering (PartitionFilters, Filter), count the occurences\n",
    "##### parameters:\n",
    "* **max_weight**: (float) the weight that will be used at the very end of the interval (newest filters)\n",
    "* **min_weight**: (float) the weight that will be used at the very start of the interval (oldest filters)\n",
    "* **windowStart**: (int - unix_ms) window start of which data to be used\n",
    "* **windowEnd**: (int - unix_ms) window end of which data to be used\n",
    "* **windowSize**: (float) number of weeks of which the interval spans\n",
    "\n",
    "\n",
    "##### metadata of method:\n",
    "* **whenRun**: (timestamp) when the method is ran"
   ]
  },
  {
   "cell_type": "code",
   "execution_count": 0,
   "metadata": {
    "application/vnd.databricks.v1+cell": {
     "cellMetadata": {
      "byteLimit": 2048000,
      "rowLimit": 10000
     },
     "inputWidgets": {},
     "nuid": "53470d3b-21a3-4dfa-b76f-9569f3aa21d4",
     "showTitle": false,
     "title": ""
    }
   },
   "outputs": [
    {
     "output_type": "stream",
     "name": "stdout",
     "output_type": "stream",
     "text": [
      "runId: 2\n"
     ]
    }
   ],
   "source": [
    "runId = 1\n",
    "# update runId if there is already a max_id in the method_runs table\n",
    "max_id = spark.sql(\"SELECT MAX(runId) AS max_id FROM method_runs\").collect()[0][\n",
    "    \"max_id\"\n",
    "]\n",
    "if max_id is not None:\n",
    "    runId = max_id + 1\n",
    "print(f\"runId: {runId}\")\n",
    "\n",
    "# No parameters for this method\n",
    "params = {\n",
    "    \"max_weight\": max_weight,\n",
    "    \"min_weight\": min_weight,\n",
    "    \"windowStart\": from_time_timestamp,\n",
    "    \"windowEnd\": to_time_timestamp,\n",
    "    \"windowSize\": interval,\n",
    "}\n",
    "\n",
    "metadata = {\n",
    "    \"whenRun\": datetime.now(),\n",
    "}"
   ]
  },
  {
   "cell_type": "code",
   "execution_count": 0,
   "metadata": {
    "application/vnd.databricks.v1+cell": {
     "cellMetadata": {
      "byteLimit": 2048000,
      "rowLimit": 10000
     },
     "inputWidgets": {},
     "nuid": "6fd76cd8-a8b2-4462-9b38-043a937c76ea",
     "showTitle": false,
     "title": ""
    }
   },
   "outputs": [
    {
     "output_type": "display_data",
     "data": {
      "text/html": [
       "<style scoped>\n",
       "  .table-result-container {\n",
       "    max-height: 300px;\n",
       "    overflow: auto;\n",
       "  }\n",
       "  table, th, td {\n",
       "    border: 1px solid black;\n",
       "    border-collapse: collapse;\n",
       "  }\n",
       "  th, td {\n",
       "    padding: 5px;\n",
       "  }\n",
       "  th {\n",
       "    text-align: left;\n",
       "  }\n",
       "</style><div class='table-result-container'><table class='table-result'><thead style='background-color: white'><tr><th>runId</th><th>methodName</th><th>params</th><th>fromTime</th><th>toTime</th><th>whenRun</th></tr></thead><tbody><tr><td>2</td><td>weightedCount</td><td>{\"max_weight\": 1.0, \"min_weight\": 0.0, \"windowStart\": 1680175669202, \"windowEnd\": 1682594869202, \"windowSize\": 4.0}</td><td>2023-03-30T11:27:49.202+0000</td><td>2023-04-27T11:27:49.202+0000</td><td>2023-04-27T11:27:50.275+0000</td></tr></tbody></table></div>"
      ]
     },
     "metadata": {
      "application/vnd.databricks.v1+output": {
       "addedWidgets": {},
       "aggData": [],
       "aggError": "",
       "aggOverflow": false,
       "aggSchema": [],
       "aggSeriesLimitReached": false,
       "aggType": "",
       "arguments": {},
       "columnCustomDisplayInfos": {},
       "data": [
        [
         2,
         "weightedCount",
         "{\"max_weight\": 1.0, \"min_weight\": 0.0, \"windowStart\": 1680175669202, \"windowEnd\": 1682594869202, \"windowSize\": 4.0}",
         "2023-03-30T11:27:49.202+0000",
         "2023-04-27T11:27:49.202+0000",
         "2023-04-27T11:27:50.275+0000"
        ]
       ],
       "datasetInfos": [],
       "dbfsResultPath": null,
       "isJsonSchema": true,
       "metadata": {},
       "overflow": false,
       "plotOptions": {
        "customPlotOptions": {},
        "displayType": "table",
        "pivotAggregation": null,
        "pivotColumns": null,
        "xColumns": null,
        "yColumns": null
       },
       "removedWidgets": [],
       "schema": [
        {
         "metadata": "{}",
         "name": "runId",
         "type": "\"integer\""
        },
        {
         "metadata": "{}",
         "name": "methodName",
         "type": "\"string\""
        },
        {
         "metadata": "{}",
         "name": "params",
         "type": "\"string\""
        },
        {
         "metadata": "{}",
         "name": "fromTime",
         "type": "\"timestamp\""
        },
        {
         "metadata": "{}",
         "name": "toTime",
         "type": "\"timestamp\""
        },
        {
         "metadata": "{}",
         "name": "whenRun",
         "type": "\"timestamp\""
        }
       ],
       "type": "table"
      }
     },
     "output_type": "display_data"
    }
   ],
   "source": [
    "method_run_info = {\n",
    "    \"runId\": runId,\n",
    "    \"methodName\": \"weightedCount\",\n",
    "    \"params\": json.dumps(params) if params else \"\",\n",
    "    \"fromTime\": from_time,\n",
    "    \"toTime\": to_time,\n",
    "    \"whenRun\": metadata[\"whenRun\"],\n",
    "}\n",
    "\n",
    "method_run = spark.createDataFrame([method_run_info], schema=method_runs_schema)\n",
    "display(method_run)"
   ]
  },
  {
   "cell_type": "markdown",
   "metadata": {
    "application/vnd.databricks.v1+cell": {
     "cellMetadata": {
      "byteLimit": 2048000,
      "rowLimit": 10000
     },
     "inputWidgets": {},
     "nuid": "24112057-c105-477d-bfbf-3d75a2a2b7b4",
     "showTitle": false,
     "title": ""
    }
   },
   "source": [
    "### 3.1 Apply weights based on timeGenerated"
   ]
  },
  {
   "cell_type": "code",
   "execution_count": 0,
   "metadata": {
    "application/vnd.databricks.v1+cell": {
     "cellMetadata": {
      "byteLimit": 2048000,
      "rowLimit": 10000
     },
     "inputWidgets": {},
     "nuid": "eecc985b-94b6-450e-8fe6-7668576f0437",
     "showTitle": false,
     "title": ""
    }
   },
   "outputs": [
    {
     "output_type": "stream",
     "name": "stdout",
     "output_type": "stream",
     "text": [
      "+-----------------+------------+-----------+-------------+---------------+-----------+------------+-------------+-----------+----------+\n|       columnName|databaseName|executionId|operationName|physicalPlanKey|eventlogKey|   tableName|timeGenerated|operationId|    weight|\n+-----------------+------------+-----------+-------------+---------------+-----------+------------+-------------+-----------+----------+\n|   sparkContextID|     default|       1308|PushedFilters|    -1577232127| 1186829784|eventlog_raw|1681305905689|         10|0.46719432|\n|     lastModified|     default|       1308|PushedFilters|    -1577232127| 1186829784|eventlog_raw|1681305905689|         11|0.46719432|\n|clusterInstanceID|     default|       1308|PushedFilters|    -1577232127| 1186829784|eventlog_raw|1681305905689|         12|0.46719432|\n|   sparkContextID|     default|       1308|PushedFilters|    -1577232127| 1186829784|eventlog_raw|1681305905689|         13|0.46719432|\n|     lastModified|     default|       1308|PushedFilters|    -1577232127| 1186829784|eventlog_raw|1681305905689|         14|0.46719432|\n|clusterInstanceID|     default|       1308|PushedFilters|    -1577232127| 1186829784|eventlog_raw|1681305905689|         15|0.46719432|\n|   sparkContextID|     default|       1307|PushedFilters|    -1477335254| 1186829784|eventlog_raw|1681305896784|         26|0.46719062|\n|     lastModified|     default|       1307|PushedFilters|    -1477335254| 1186829784|eventlog_raw|1681305896784|         27|0.46719062|\n|clusterInstanceID|     default|       1307|PushedFilters|    -1477335254| 1186829784|eventlog_raw|1681305896784|         28|0.46719062|\n|   sparkContextID|     default|       1307|PushedFilters|    -1477335254| 1186829784|eventlog_raw|1681305896784|         29|0.46719062|\n|     lastModified|     default|       1307|PushedFilters|    -1477335254| 1186829784|eventlog_raw|1681305896784|         30|0.46719062|\n|clusterInstanceID|     default|       1307|PushedFilters|    -1477335254| 1186829784|eventlog_raw|1681305896784|         31|0.46719062|\n|   sparkContextID|     default|       1306|PushedFilters|     -410869781| 1186829784|eventlog_raw|1681305887826|         42|0.46718693|\n|     lastModified|     default|       1306|PushedFilters|     -410869781| 1186829784|eventlog_raw|1681305887826|         43|0.46718693|\n|clusterInstanceID|     default|       1306|PushedFilters|     -410869781| 1186829784|eventlog_raw|1681305887826|         44|0.46718693|\n|   sparkContextID|     default|       1306|PushedFilters|     -410869781| 1186829784|eventlog_raw|1681305887826|         45|0.46718693|\n|     lastModified|     default|       1306|PushedFilters|     -410869781| 1186829784|eventlog_raw|1681305887826|         46|0.46718693|\n|clusterInstanceID|     default|       1306|PushedFilters|     -410869781| 1186829784|eventlog_raw|1681305887826|         47|0.46718693|\n|   sparkContextID|     default|        717|PushedFilters|     -864713122| 2116658528|eventlog_raw|1681218885839|         53| 0.4312238|\n|     lastModified|     default|        717|PushedFilters|     -864713122| 2116658528|eventlog_raw|1681218885839|         54| 0.4312238|\n+-----------------+------------+-----------+-------------+---------------+-----------+------------+-------------+-----------+----------+\nonly showing top 20 rows\n\n"
     ]
    }
   ],
   "source": [
    "interval_weight = F.when(\n",
    "    F.col(\"timeGenerated\") >= to_time_timestamp, max_weight).otherwise(\n",
    "        F.when(F.col(\"timeGenerated\") <= from_time_timestamp, min_weight)\n",
    "    .otherwise(\n",
    "        (\n",
    "            (F.col(\"timeGenerated\").cast(\"long\") - from_time_timestamp)\n",
    "            / (to_time_timestamp - from_time_timestamp)\n",
    "        )\n",
    "        * (max_weight - min_weight)\n",
    "        + min_weight\n",
    "    )\n",
    ")\n",
    "\n",
    "weighted_operations = operations.withColumn(\"weight\", interval_weight.cast(\"float\"))\n",
    "weighted_operations.show()"
   ]
  },
  {
   "cell_type": "markdown",
   "metadata": {
    "application/vnd.databricks.v1+cell": {
     "cellMetadata": {
      "byteLimit": 2048000,
      "rowLimit": 10000
     },
     "inputWidgets": {},
     "nuid": "3082469a-7877-46d7-97ad-d7a3680e76e5",
     "showTitle": false,
     "title": ""
    }
   },
   "source": [
    "### 3.2 Aggregate Weighted Operations"
   ]
  },
  {
   "cell_type": "code",
   "execution_count": 0,
   "metadata": {
    "application/vnd.databricks.v1+cell": {
     "cellMetadata": {
      "byteLimit": 2048000,
      "rowLimit": 10000
     },
     "inputWidgets": {},
     "nuid": "8de5334c-fb75-44fa-9ef8-86292d163e39",
     "showTitle": false,
     "title": ""
    }
   },
   "outputs": [
    {
     "output_type": "stream",
     "name": "stdout",
     "output_type": "stream",
     "text": [
      "+------------+--------------------+-----------------+----------------+-------------------+\n|databaseName|           tableName|       columnName|   operationName|        weightedSum|\n+------------+--------------------+-----------------+----------------+-------------------+\n|     default|        eventlog_raw|        clusterID|   PushedFilters|  0.483463391661644|\n|     default|        eventlog_raw|clusterInstanceID|   PushedFilters| 163.97874668240547|\n|     default|        eventlog_raw|      eventlogKey|   PushedFilters|   5.79052859544754|\n|     default|        eventlog_raw|     lastModified|   PushedFilters|  273.6945593878627|\n|     default|        eventlog_raw|   sparkContextID|   PushedFilters| 151.50880932807922|\n|     default|monthly_global_oi...|        countryId|   PushedFilters| 0.5894977450370789|\n|     default|monthly_global_oi...|      countryName|   PushedFilters|  2.532083049416542|\n|     default|monthly_global_oi...|        countryId|   PushedFilters| 0.5504397004842758|\n|     default|monthly_global_oi...|      countryName|   PushedFilters|  2.826852023601532|\n|     default|monthly_global_oi...|         etl_year|PartitionFilters| 0.4961426109075546|\n|     default|monthly_global_oi...|        countryId|   PushedFilters|0.10836926847696304|\n|     default|          operations|      eventlogKey|   PushedFilters| 15.213154792785645|\n|     default|          operations|    operationName|   PushedFilters| 2.1491591036319733|\n|     default|  physical_plan_keys|  physicalPlanKey|   PushedFilters| 25.728011280298233|\n|     default|         plant_v0r44|         PLANT_ID|   PushedFilters|  5.225180119276047|\n|     default|         plant_v0r44|          UP_DATE|PartitionFilters|  5.225180119276047|\n|     default|             queries|  physicalPlanKey|   PushedFilters| 12.816603899002075|\n+------------+--------------------+-----------------+----------------+-------------------+\n\n"
     ]
    }
   ],
   "source": [
    "method_output = (\n",
    "    weighted_operations.groupBy(\n",
    "        \"databaseName\", \"tableName\", \"columnName\"\n",
    "    )\n",
    "    .agg(F.sum(\"weight\").alias(\"weightedSum\"))\n",
    "    .orderBy(\"databaseName\", \"tableName\", \"columnName\")\n",
    ")\n",
    "\n",
    "method_output.show()"
   ]
  },
  {
   "cell_type": "markdown",
   "metadata": {
    "application/vnd.databricks.v1+cell": {
     "cellMetadata": {
      "byteLimit": 2048000,
      "rowLimit": 10000
     },
     "inputWidgets": {},
     "nuid": "1f813267-bfa4-4914-b6b6-a657668dfb6d",
     "showTitle": false,
     "title": ""
    }
   },
   "source": [
    "### 3.3 Create Columns Needed for the method_results Table"
   ]
  },
  {
   "cell_type": "code",
   "execution_count": 0,
   "metadata": {
    "application/vnd.databricks.v1+cell": {
     "cellMetadata": {
      "byteLimit": 2048000,
      "rowLimit": 10000
     },
     "inputWidgets": {},
     "nuid": "b48cc5d3-9897-4388-bc09-796eb3d6e0f5",
     "showTitle": false,
     "title": ""
    }
   },
   "outputs": [
    {
     "output_type": "stream",
     "name": "stdout",
     "output_type": "stream",
     "text": [
      "+------------+--------------------+-----------------+-----------+-------------+-----+\n|databaseName|           tableName|       columnName|methodValue|isPartitioned|runId|\n+------------+--------------------+-----------------+-----------+-------------+-----+\n|     default|        eventlog_raw|        clusterID|  0.4834634|        false|    2|\n|     default|        eventlog_raw|clusterInstanceID|  163.97874|        false|    2|\n|     default|        eventlog_raw|      eventlogKey|   5.790529|        false|    2|\n|     default|        eventlog_raw|     lastModified|  273.69455|        false|    2|\n|     default|        eventlog_raw|   sparkContextID|   151.5088|        false|    2|\n|     default|monthly_global_oi...|        countryId| 0.58949775|        false|    2|\n|     default|monthly_global_oi...|      countryName|   2.532083|        false|    2|\n|     default|monthly_global_oi...|        countryId|  0.5504397|        false|    2|\n|     default|monthly_global_oi...|      countryName|   2.826852|        false|    2|\n|     default|monthly_global_oi...|         etl_year| 0.49614263|         true|    2|\n|     default|monthly_global_oi...|        countryId| 0.10836927|        false|    2|\n|     default|          operations|      eventlogKey|  15.213155|        false|    2|\n|     default|          operations|    operationName|  2.1491592|        false|    2|\n|     default|  physical_plan_keys|  physicalPlanKey|  25.728012|        false|    2|\n|     default|         plant_v0r44|         PLANT_ID|    5.22518|        false|    2|\n|     default|         plant_v0r44|          UP_DATE|    5.22518|         true|    2|\n|     default|             queries|  physicalPlanKey|  12.816604|        false|    2|\n+------------+--------------------+-----------------+-----------+-------------+-----+\n\n"
     ]
    }
   ],
   "source": [
    "method_results = (\n",
    "    method_output.withColumn(\"methodValue\", F.col(\"weightedSum\"))\n",
    "    .withColumn(\"methodValue\", F.col(\"methodValue\").cast(\"float\"))\n",
    ").drop(\"occurrences\")\n",
    "\n",
    "# join on is_partitioned dataframe to check if columns is partitioned or not\n",
    "# note: this is based on the last occurence of the filter in the operations table\n",
    "method_results = method_results.join(\n",
    "    is_partitioned, on=[\"databaseName\", \"tableName\", \"columnName\"]\n",
    ")\n",
    "\n",
    "method_results = method_results.withColumn(\"runId\", F.lit(runId)).select(\n",
    "    \"databaseName\",\n",
    "    \"tableName\",\n",
    "    \"columnName\",\n",
    "    \"methodValue\",\n",
    "    \"isPartitioned\",\n",
    "    \"runId\",\n",
    ")\n",
    "\n",
    "method_results.show()"
   ]
  },
  {
   "cell_type": "markdown",
   "metadata": {
    "application/vnd.databricks.v1+cell": {
     "cellMetadata": {
      "byteLimit": 2048000,
      "rowLimit": 10000
     },
     "inputWidgets": {},
     "nuid": "c78e330c-989a-45db-a55f-e6d5335a63ac",
     "showTitle": false,
     "title": ""
    }
   },
   "source": [
    "### 3.4 Find recommendations Based on the Column with the Highest methodValue per db-table"
   ]
  },
  {
   "cell_type": "code",
   "execution_count": 0,
   "metadata": {
    "application/vnd.databricks.v1+cell": {
     "cellMetadata": {
      "byteLimit": 2048000,
      "rowLimit": 10000
     },
     "inputWidgets": {},
     "nuid": "2451ec45-2c79-4c34-8ab0-bfb6ba7ce5ea",
     "showTitle": false,
     "title": ""
    }
   },
   "outputs": [
    {
     "output_type": "stream",
     "name": "stdout",
     "output_type": "stream",
     "text": [
      "+------------+--------------------------------------------------+---------------+-----------+-------------+-----+\n|databaseName|tableName                                         |columnName     |methodValue|isPartitioned|runId|\n+------------+--------------------------------------------------+---------------+-----------+-------------+-----+\n|default     |eventlog_raw                                      |lastModified   |273.69455  |false        |2    |\n|default     |monthly_global_oil_demand_forecast_countries_v0r0 |countryName    |2.532083   |false        |2    |\n|default     |monthly_global_oil_demand_forecast_countries_v0r42|countryName    |2.826852   |false        |2    |\n|default     |monthly_global_oil_demand_forecast_countries_v0r44|countryId      |0.10836927 |false        |2    |\n|default     |operations                                        |eventlogKey    |15.213155  |false        |2    |\n|default     |physical_plan_keys                                |physicalPlanKey|25.728012  |false        |2    |\n|default     |plant_v0r44                                       |UP_DATE        |5.22518    |true         |2    |\n|default     |queries                                           |physicalPlanKey|12.816604  |false        |2    |\n+------------+--------------------------------------------------+---------------+-----------+-------------+-----+\n\n"
     ]
    }
   ],
   "source": [
    "method_recommendations = (\n",
    "    method_results.groupBy(\"databaseName\", \"tableName\")\n",
    "    .agg(\n",
    "        F.max(F.struct(\"methodValue\", \"columnName\", \"isPartitioned\")).alias(\n",
    "            \"max_methodValue_colName_isPartitioned\"\n",
    "        )\n",
    "    )\n",
    "    .select(\n",
    "        \"databaseName\",\n",
    "        \"tableName\",\n",
    "        \"max_methodValue_colName_isPartitioned.columnName\",\n",
    "        \"max_methodValue_colName_isPartitioned.methodValue\",\n",
    "        \"max_methodValue_colName_isPartitioned.isPartitioned\",\n",
    "    )\n",
    "    .withColumn(\"runId\", F.lit(runId))\n",
    "    .withColumnRenamed(\"max_methodValue_colName_isPartitioned.columnName\", \"columnName\")\n",
    "    .withColumnRenamed(\n",
    "        \"max_methodValue_colName_isPartitioned.methodValue\", \"methodValue\"\n",
    "    )\n",
    "    .withColumnRenamed(\n",
    "        \"max_methodValue_colName_isPartitioned.isPartitioned\", \"isPartitioned\"\n",
    "    )\n",
    ")\n",
    "\n",
    "method_recommendations.show(truncate=False)"
   ]
  },
  {
   "cell_type": "markdown",
   "metadata": {
    "application/vnd.databricks.v1+cell": {
     "cellMetadata": {
      "byteLimit": 2048000,
      "rowLimit": 10000
     },
     "inputWidgets": {},
     "nuid": "bcf04e63-f749-4850-8dc3-b7da80389257",
     "showTitle": false,
     "title": ""
    }
   },
   "source": [
    "### 4. Save Data to Tables"
   ]
  },
  {
   "cell_type": "code",
   "execution_count": 0,
   "metadata": {
    "application/vnd.databricks.v1+cell": {
     "cellMetadata": {
      "byteLimit": 2048000,
      "rowLimit": 10000
     },
     "inputWidgets": {},
     "nuid": "d45fcca5-e97f-4f52-af26-17d504dd0615",
     "showTitle": false,
     "title": ""
    }
   },
   "outputs": [],
   "source": [
    "# write method_runs information\n",
    "method_run.write.format(\"delta\").mode(\"append\").saveAsTable(\"method_runs\")\n",
    "\n",
    "# write method_results information\n",
    "method_results.write.format(\"delta\").mode(\"append\").saveAsTable(\"method_results\")\n",
    "\n",
    "# write method_recommendation information\n",
    "method_recommendations.write.format(\"delta\").mode(\"append\").saveAsTable(\n",
    "    \"method_recommendations\"\n",
    ")"
   ]
  },
  {
   "cell_type": "code",
   "execution_count": 0,
   "metadata": {
    "application/vnd.databricks.v1+cell": {
     "cellMetadata": {
      "byteLimit": 2048000,
      "implicitDf": true,
      "rowLimit": 10000
     },
     "inputWidgets": {},
     "nuid": "f7de56d8-0efe-48b8-a413-59e9db00c5e0",
     "showTitle": false,
     "title": ""
    }
   },
   "outputs": [
    {
     "output_type": "display_data",
     "data": {
      "text/html": [
       "<style scoped>\n",
       "  .table-result-container {\n",
       "    max-height: 300px;\n",
       "    overflow: auto;\n",
       "  }\n",
       "  table, th, td {\n",
       "    border: 1px solid black;\n",
       "    border-collapse: collapse;\n",
       "  }\n",
       "  th, td {\n",
       "    padding: 5px;\n",
       "  }\n",
       "  th {\n",
       "    text-align: left;\n",
       "  }\n",
       "</style><div class='table-result-container'><table class='table-result'><thead style='background-color: white'><tr><th>runId</th><th>methodName</th><th>params</th><th>fromTime</th><th>toTime</th><th>whenRun</th></tr></thead><tbody><tr><td>2</td><td>weightedCount</td><td>{\"max_weight\": 1.0, \"min_weight\": 0.0, \"windowStart\": 1680175669202, \"windowEnd\": 1682594869202, \"windowSize\": 4.0}</td><td>2023-03-30T11:27:49.202+0000</td><td>2023-04-27T11:27:49.202+0000</td><td>2023-04-27T11:27:50.275+0000</td></tr><tr><td>1</td><td>simpleCount</td><td>{\"windowStart\": 1680175636634, \"windowEnd\": 1682594836634, \"windowSize\": 4.0}</td><td>2023-03-30T11:27:16.634+0000</td><td>2023-04-27T11:27:16.634+0000</td><td>2023-04-27T11:27:17.713+0000</td></tr></tbody></table></div>"
      ]
     },
     "metadata": {
      "application/vnd.databricks.v1+output": {
       "addedWidgets": {},
       "aggData": [],
       "aggError": "",
       "aggOverflow": false,
       "aggSchema": [],
       "aggSeriesLimitReached": false,
       "aggType": "",
       "arguments": {},
       "columnCustomDisplayInfos": {},
       "data": [
        [
         2,
         "weightedCount",
         "{\"max_weight\": 1.0, \"min_weight\": 0.0, \"windowStart\": 1680175669202, \"windowEnd\": 1682594869202, \"windowSize\": 4.0}",
         "2023-03-30T11:27:49.202+0000",
         "2023-04-27T11:27:49.202+0000",
         "2023-04-27T11:27:50.275+0000"
        ],
        [
         1,
         "simpleCount",
         "{\"windowStart\": 1680175636634, \"windowEnd\": 1682594836634, \"windowSize\": 4.0}",
         "2023-03-30T11:27:16.634+0000",
         "2023-04-27T11:27:16.634+0000",
         "2023-04-27T11:27:17.713+0000"
        ]
       ],
       "datasetInfos": [],
       "dbfsResultPath": null,
       "isJsonSchema": true,
       "metadata": {},
       "overflow": false,
       "plotOptions": {
        "customPlotOptions": {},
        "displayType": "table",
        "pivotAggregation": null,
        "pivotColumns": null,
        "xColumns": null,
        "yColumns": null
       },
       "removedWidgets": [],
       "schema": [
        {
         "metadata": "{}",
         "name": "runId",
         "type": "\"integer\""
        },
        {
         "metadata": "{}",
         "name": "methodName",
         "type": "\"string\""
        },
        {
         "metadata": "{}",
         "name": "params",
         "type": "\"string\""
        },
        {
         "metadata": "{}",
         "name": "fromTime",
         "type": "\"timestamp\""
        },
        {
         "metadata": "{}",
         "name": "toTime",
         "type": "\"timestamp\""
        },
        {
         "metadata": "{}",
         "name": "whenRun",
         "type": "\"timestamp\""
        }
       ],
       "type": "table"
      }
     },
     "output_type": "display_data"
    }
   ],
   "source": [
    "%sql\n",
    "select\n",
    "  *\n",
    "from\n",
    "  method_runs"
   ]
  },
  {
   "cell_type": "code",
   "execution_count": 0,
   "metadata": {
    "application/vnd.databricks.v1+cell": {
     "cellMetadata": {
      "byteLimit": 2048000,
      "implicitDf": true,
      "rowLimit": 10000
     },
     "inputWidgets": {},
     "nuid": "c501e1cd-36c0-4dab-a202-dffc83df2694",
     "showTitle": false,
     "title": ""
    }
   },
   "outputs": [
    {
     "output_type": "display_data",
     "data": {
      "text/html": [
       "<style scoped>\n",
       "  .table-result-container {\n",
       "    max-height: 300px;\n",
       "    overflow: auto;\n",
       "  }\n",
       "  table, th, td {\n",
       "    border: 1px solid black;\n",
       "    border-collapse: collapse;\n",
       "  }\n",
       "  th, td {\n",
       "    padding: 5px;\n",
       "  }\n",
       "  th {\n",
       "    text-align: left;\n",
       "  }\n",
       "</style><div class='table-result-container'><table class='table-result'><thead style='background-color: white'><tr><th>runId</th><th>databaseName</th><th>tableName</th><th>columnName</th><th>methodValue</th><th>isPartitioned</th></tr></thead><tbody><tr><td>2</td><td>default</td><td>eventlog_raw</td><td>clusterID</td><td>0.4834634</td><td>false</td></tr><tr><td>2</td><td>default</td><td>eventlog_raw</td><td>clusterInstanceID</td><td>163.97874</td><td>false</td></tr><tr><td>2</td><td>default</td><td>eventlog_raw</td><td>eventlogKey</td><td>5.790529</td><td>false</td></tr><tr><td>2</td><td>default</td><td>eventlog_raw</td><td>lastModified</td><td>273.69455</td><td>false</td></tr><tr><td>2</td><td>default</td><td>eventlog_raw</td><td>sparkContextID</td><td>151.5088</td><td>false</td></tr><tr><td>2</td><td>default</td><td>monthly_global_oil_demand_forecast_countries_v0r0</td><td>countryId</td><td>0.58949775</td><td>false</td></tr><tr><td>2</td><td>default</td><td>monthly_global_oil_demand_forecast_countries_v0r0</td><td>countryName</td><td>2.532083</td><td>false</td></tr><tr><td>2</td><td>default</td><td>monthly_global_oil_demand_forecast_countries_v0r42</td><td>countryId</td><td>0.5504397</td><td>false</td></tr><tr><td>2</td><td>default</td><td>monthly_global_oil_demand_forecast_countries_v0r42</td><td>countryName</td><td>2.826852</td><td>false</td></tr><tr><td>2</td><td>default</td><td>monthly_global_oil_demand_forecast_countries_v0r42</td><td>etl_year</td><td>0.49614263</td><td>true</td></tr><tr><td>2</td><td>default</td><td>monthly_global_oil_demand_forecast_countries_v0r44</td><td>countryId</td><td>0.10836927</td><td>false</td></tr><tr><td>2</td><td>default</td><td>operations</td><td>eventlogKey</td><td>15.213155</td><td>false</td></tr><tr><td>2</td><td>default</td><td>operations</td><td>operationName</td><td>2.1491592</td><td>false</td></tr><tr><td>2</td><td>default</td><td>physical_plan_keys</td><td>physicalPlanKey</td><td>25.728012</td><td>false</td></tr><tr><td>2</td><td>default</td><td>plant_v0r44</td><td>PLANT_ID</td><td>5.22518</td><td>false</td></tr><tr><td>2</td><td>default</td><td>plant_v0r44</td><td>UP_DATE</td><td>5.22518</td><td>true</td></tr><tr><td>2</td><td>default</td><td>queries</td><td>physicalPlanKey</td><td>12.816604</td><td>false</td></tr><tr><td>1</td><td>default</td><td>eventlog_raw</td><td>clusterID</td><td>5.0</td><td>false</td></tr><tr><td>1</td><td>default</td><td>eventlog_raw</td><td>clusterInstanceID</td><td>311.0</td><td>false</td></tr><tr><td>1</td><td>default</td><td>eventlog_raw</td><td>eventlogKey</td><td>10.0</td><td>false</td></tr><tr><td>1</td><td>default</td><td>eventlog_raw</td><td>lastModified</td><td>673.0</td><td>false</td></tr><tr><td>1</td><td>default</td><td>eventlog_raw</td><td>sparkContextID</td><td>282.0</td><td>false</td></tr><tr><td>1</td><td>default</td><td>monthly_global_oil_demand_forecast_countries_v0r0</td><td>countryId</td><td>4.0</td><td>false</td></tr><tr><td>1</td><td>default</td><td>monthly_global_oil_demand_forecast_countries_v0r0</td><td>countryName</td><td>12.0</td><td>false</td></tr><tr><td>1</td><td>default</td><td>monthly_global_oil_demand_forecast_countries_v0r42</td><td>countryId</td><td>4.0</td><td>false</td></tr><tr><td>1</td><td>default</td><td>monthly_global_oil_demand_forecast_countries_v0r42</td><td>countryName</td><td>14.0</td><td>false</td></tr><tr><td>1</td><td>default</td><td>monthly_global_oil_demand_forecast_countries_v0r42</td><td>etl_year</td><td>2.0</td><td>true</td></tr><tr><td>1</td><td>default</td><td>monthly_global_oil_demand_forecast_countries_v0r44</td><td>countryId</td><td>1.0</td><td>false</td></tr><tr><td>1</td><td>default</td><td>operations</td><td>eventlogKey</td><td>27.0</td><td>false</td></tr><tr><td>1</td><td>default</td><td>operations</td><td>operationName</td><td>5.0</td><td>false</td></tr><tr><td>1</td><td>default</td><td>physical_plan_keys</td><td>physicalPlanKey</td><td>49.0</td><td>false</td></tr><tr><td>1</td><td>default</td><td>plant_v0r44</td><td>PLANT_ID</td><td>23.0</td><td>false</td></tr><tr><td>1</td><td>default</td><td>plant_v0r44</td><td>UP_DATE</td><td>23.0</td><td>true</td></tr><tr><td>1</td><td>default</td><td>queries</td><td>physicalPlanKey</td><td>20.0</td><td>false</td></tr></tbody></table></div>"
      ]
     },
     "metadata": {
      "application/vnd.databricks.v1+output": {
       "addedWidgets": {},
       "aggData": [],
       "aggError": "",
       "aggOverflow": false,
       "aggSchema": [],
       "aggSeriesLimitReached": false,
       "aggType": "",
       "arguments": {},
       "columnCustomDisplayInfos": {},
       "data": [
        [
         2,
         "default",
         "eventlog_raw",
         "clusterID",
         0.4834634,
         false
        ],
        [
         2,
         "default",
         "eventlog_raw",
         "clusterInstanceID",
         163.97874,
         false
        ],
        [
         2,
         "default",
         "eventlog_raw",
         "eventlogKey",
         5.790529,
         false
        ],
        [
         2,
         "default",
         "eventlog_raw",
         "lastModified",
         273.69455,
         false
        ],
        [
         2,
         "default",
         "eventlog_raw",
         "sparkContextID",
         151.5088,
         false
        ],
        [
         2,
         "default",
         "monthly_global_oil_demand_forecast_countries_v0r0",
         "countryId",
         0.58949775,
         false
        ],
        [
         2,
         "default",
         "monthly_global_oil_demand_forecast_countries_v0r0",
         "countryName",
         2.532083,
         false
        ],
        [
         2,
         "default",
         "monthly_global_oil_demand_forecast_countries_v0r42",
         "countryId",
         0.5504397,
         false
        ],
        [
         2,
         "default",
         "monthly_global_oil_demand_forecast_countries_v0r42",
         "countryName",
         2.826852,
         false
        ],
        [
         2,
         "default",
         "monthly_global_oil_demand_forecast_countries_v0r42",
         "etl_year",
         0.49614263,
         true
        ],
        [
         2,
         "default",
         "monthly_global_oil_demand_forecast_countries_v0r44",
         "countryId",
         0.10836927,
         false
        ],
        [
         2,
         "default",
         "operations",
         "eventlogKey",
         15.213155,
         false
        ],
        [
         2,
         "default",
         "operations",
         "operationName",
         2.1491592,
         false
        ],
        [
         2,
         "default",
         "physical_plan_keys",
         "physicalPlanKey",
         25.728012,
         false
        ],
        [
         2,
         "default",
         "plant_v0r44",
         "PLANT_ID",
         5.22518,
         false
        ],
        [
         2,
         "default",
         "plant_v0r44",
         "UP_DATE",
         5.22518,
         true
        ],
        [
         2,
         "default",
         "queries",
         "physicalPlanKey",
         12.816604,
         false
        ],
        [
         1,
         "default",
         "eventlog_raw",
         "clusterID",
         5.0,
         false
        ],
        [
         1,
         "default",
         "eventlog_raw",
         "clusterInstanceID",
         311.0,
         false
        ],
        [
         1,
         "default",
         "eventlog_raw",
         "eventlogKey",
         10.0,
         false
        ],
        [
         1,
         "default",
         "eventlog_raw",
         "lastModified",
         673.0,
         false
        ],
        [
         1,
         "default",
         "eventlog_raw",
         "sparkContextID",
         282.0,
         false
        ],
        [
         1,
         "default",
         "monthly_global_oil_demand_forecast_countries_v0r0",
         "countryId",
         4.0,
         false
        ],
        [
         1,
         "default",
         "monthly_global_oil_demand_forecast_countries_v0r0",
         "countryName",
         12.0,
         false
        ],
        [
         1,
         "default",
         "monthly_global_oil_demand_forecast_countries_v0r42",
         "countryId",
         4.0,
         false
        ],
        [
         1,
         "default",
         "monthly_global_oil_demand_forecast_countries_v0r42",
         "countryName",
         14.0,
         false
        ],
        [
         1,
         "default",
         "monthly_global_oil_demand_forecast_countries_v0r42",
         "etl_year",
         2.0,
         true
        ],
        [
         1,
         "default",
         "monthly_global_oil_demand_forecast_countries_v0r44",
         "countryId",
         1.0,
         false
        ],
        [
         1,
         "default",
         "operations",
         "eventlogKey",
         27.0,
         false
        ],
        [
         1,
         "default",
         "operations",
         "operationName",
         5.0,
         false
        ],
        [
         1,
         "default",
         "physical_plan_keys",
         "physicalPlanKey",
         49.0,
         false
        ],
        [
         1,
         "default",
         "plant_v0r44",
         "PLANT_ID",
         23.0,
         false
        ],
        [
         1,
         "default",
         "plant_v0r44",
         "UP_DATE",
         23.0,
         true
        ],
        [
         1,
         "default",
         "queries",
         "physicalPlanKey",
         20.0,
         false
        ]
       ],
       "datasetInfos": [],
       "dbfsResultPath": null,
       "isJsonSchema": true,
       "metadata": {},
       "overflow": false,
       "plotOptions": {
        "customPlotOptions": {},
        "displayType": "table",
        "pivotAggregation": null,
        "pivotColumns": null,
        "xColumns": null,
        "yColumns": null
       },
       "removedWidgets": [],
       "schema": [
        {
         "metadata": "{}",
         "name": "runId",
         "type": "\"integer\""
        },
        {
         "metadata": "{}",
         "name": "databaseName",
         "type": "\"string\""
        },
        {
         "metadata": "{}",
         "name": "tableName",
         "type": "\"string\""
        },
        {
         "metadata": "{}",
         "name": "columnName",
         "type": "\"string\""
        },
        {
         "metadata": "{}",
         "name": "methodValue",
         "type": "\"float\""
        },
        {
         "metadata": "{}",
         "name": "isPartitioned",
         "type": "\"boolean\""
        }
       ],
       "type": "table"
      }
     },
     "output_type": "display_data"
    }
   ],
   "source": [
    "%sql\n",
    "select\n",
    "  *\n",
    "from\n",
    "  method_results"
   ]
  },
  {
   "cell_type": "code",
   "execution_count": 0,
   "metadata": {
    "application/vnd.databricks.v1+cell": {
     "cellMetadata": {
      "byteLimit": 2048000,
      "implicitDf": true,
      "rowLimit": 10000
     },
     "inputWidgets": {},
     "nuid": "a737675d-bfd1-457b-be8a-fbc9368f4f18",
     "showTitle": false,
     "title": ""
    }
   },
   "outputs": [
    {
     "output_type": "display_data",
     "data": {
      "text/html": [
       "<style scoped>\n",
       "  .table-result-container {\n",
       "    max-height: 300px;\n",
       "    overflow: auto;\n",
       "  }\n",
       "  table, th, td {\n",
       "    border: 1px solid black;\n",
       "    border-collapse: collapse;\n",
       "  }\n",
       "  th, td {\n",
       "    padding: 5px;\n",
       "  }\n",
       "  th {\n",
       "    text-align: left;\n",
       "  }\n",
       "</style><div class='table-result-container'><table class='table-result'><thead style='background-color: white'><tr><th>runId</th><th>databaseName</th><th>tableName</th><th>columnName</th><th>methodValue</th><th>isPartitioned</th></tr></thead><tbody><tr><td>1</td><td>default</td><td>eventlog_raw</td><td>lastModified</td><td>673.0</td><td>false</td></tr><tr><td>1</td><td>default</td><td>monthly_global_oil_demand_forecast_countries_v0r0</td><td>countryName</td><td>12.0</td><td>false</td></tr><tr><td>1</td><td>default</td><td>monthly_global_oil_demand_forecast_countries_v0r42</td><td>countryName</td><td>14.0</td><td>false</td></tr><tr><td>1</td><td>default</td><td>monthly_global_oil_demand_forecast_countries_v0r44</td><td>countryId</td><td>1.0</td><td>false</td></tr><tr><td>1</td><td>default</td><td>operations</td><td>eventlogKey</td><td>27.0</td><td>false</td></tr><tr><td>1</td><td>default</td><td>physical_plan_keys</td><td>physicalPlanKey</td><td>49.0</td><td>false</td></tr><tr><td>1</td><td>default</td><td>plant_v0r44</td><td>UP_DATE</td><td>23.0</td><td>true</td></tr><tr><td>1</td><td>default</td><td>queries</td><td>physicalPlanKey</td><td>20.0</td><td>false</td></tr><tr><td>2</td><td>default</td><td>eventlog_raw</td><td>lastModified</td><td>273.69455</td><td>false</td></tr><tr><td>2</td><td>default</td><td>monthly_global_oil_demand_forecast_countries_v0r0</td><td>countryName</td><td>2.532083</td><td>false</td></tr><tr><td>2</td><td>default</td><td>monthly_global_oil_demand_forecast_countries_v0r42</td><td>countryName</td><td>2.826852</td><td>false</td></tr><tr><td>2</td><td>default</td><td>monthly_global_oil_demand_forecast_countries_v0r44</td><td>countryId</td><td>0.10836927</td><td>false</td></tr><tr><td>2</td><td>default</td><td>operations</td><td>eventlogKey</td><td>15.213155</td><td>false</td></tr><tr><td>2</td><td>default</td><td>physical_plan_keys</td><td>physicalPlanKey</td><td>25.728012</td><td>false</td></tr><tr><td>2</td><td>default</td><td>plant_v0r44</td><td>UP_DATE</td><td>5.22518</td><td>true</td></tr><tr><td>2</td><td>default</td><td>queries</td><td>physicalPlanKey</td><td>12.816604</td><td>false</td></tr></tbody></table></div>"
      ]
     },
     "metadata": {
      "application/vnd.databricks.v1+output": {
       "addedWidgets": {},
       "aggData": [],
       "aggError": "",
       "aggOverflow": false,
       "aggSchema": [],
       "aggSeriesLimitReached": false,
       "aggType": "",
       "arguments": {},
       "columnCustomDisplayInfos": {},
       "data": [
        [
         1,
         "default",
         "eventlog_raw",
         "lastModified",
         673.0,
         false
        ],
        [
         1,
         "default",
         "monthly_global_oil_demand_forecast_countries_v0r0",
         "countryName",
         12.0,
         false
        ],
        [
         1,
         "default",
         "monthly_global_oil_demand_forecast_countries_v0r42",
         "countryName",
         14.0,
         false
        ],
        [
         1,
         "default",
         "monthly_global_oil_demand_forecast_countries_v0r44",
         "countryId",
         1.0,
         false
        ],
        [
         1,
         "default",
         "operations",
         "eventlogKey",
         27.0,
         false
        ],
        [
         1,
         "default",
         "physical_plan_keys",
         "physicalPlanKey",
         49.0,
         false
        ],
        [
         1,
         "default",
         "plant_v0r44",
         "UP_DATE",
         23.0,
         true
        ],
        [
         1,
         "default",
         "queries",
         "physicalPlanKey",
         20.0,
         false
        ],
        [
         2,
         "default",
         "eventlog_raw",
         "lastModified",
         273.69455,
         false
        ],
        [
         2,
         "default",
         "monthly_global_oil_demand_forecast_countries_v0r0",
         "countryName",
         2.532083,
         false
        ],
        [
         2,
         "default",
         "monthly_global_oil_demand_forecast_countries_v0r42",
         "countryName",
         2.826852,
         false
        ],
        [
         2,
         "default",
         "monthly_global_oil_demand_forecast_countries_v0r44",
         "countryId",
         0.10836927,
         false
        ],
        [
         2,
         "default",
         "operations",
         "eventlogKey",
         15.213155,
         false
        ],
        [
         2,
         "default",
         "physical_plan_keys",
         "physicalPlanKey",
         25.728012,
         false
        ],
        [
         2,
         "default",
         "plant_v0r44",
         "UP_DATE",
         5.22518,
         true
        ],
        [
         2,
         "default",
         "queries",
         "physicalPlanKey",
         12.816604,
         false
        ]
       ],
       "datasetInfos": [],
       "dbfsResultPath": null,
       "isJsonSchema": true,
       "metadata": {},
       "overflow": false,
       "plotOptions": {
        "customPlotOptions": {},
        "displayType": "table",
        "pivotAggregation": null,
        "pivotColumns": null,
        "xColumns": null,
        "yColumns": null
       },
       "removedWidgets": [],
       "schema": [
        {
         "metadata": "{}",
         "name": "runId",
         "type": "\"integer\""
        },
        {
         "metadata": "{}",
         "name": "databaseName",
         "type": "\"string\""
        },
        {
         "metadata": "{}",
         "name": "tableName",
         "type": "\"string\""
        },
        {
         "metadata": "{}",
         "name": "columnName",
         "type": "\"string\""
        },
        {
         "metadata": "{}",
         "name": "methodValue",
         "type": "\"float\""
        },
        {
         "metadata": "{}",
         "name": "isPartitioned",
         "type": "\"boolean\""
        }
       ],
       "type": "table"
      }
     },
     "output_type": "display_data"
    }
   ],
   "source": [
    "%sql\n",
    "select\n",
    "  *\n",
    "from\n",
    "  method_recommendations"
   ]
  }
 ],
 "metadata": {
  "application/vnd.databricks.v1+notebook": {
   "dashboards": [],
   "language": "python",
   "notebookMetadata": {
    "mostRecentlyExecutedCommandWithImplicitDF": {
     "commandId": 3702988908468340,
     "dataframes": [
      "_sqldf"
     ]
    },
    "pythonIndentUnit": 4,
    "widgetLayout": [
     {
      "breakBefore": false,
      "name": "interval",
      "width": 301
     },
     {
      "breakBefore": false,
      "name": "to_time",
      "width": 301
     },
     {
      "breakBefore": false,
      "name": "min_weight",
      "width": 251
     },
     {
      "breakBefore": false,
      "name": "max_weight",
      "width": 301
     }
    ]
   },
   "notebookName": "RuleBased_weightedCount",
   "widgets": {
    "interval": {
     "currentValue": "4",
     "nuid": "ad836b2b-5af2-41fc-859d-464dfcdf6ef6",
     "widgetInfo": {
      "widgetType": "text",
      "defaultValue": "4",
      "label": "Size of interval (weeks) for how much data the methods will use",
      "name": "interval",
      "options": {
       "widgetType": "text",
       "validationRegex": null
      }
     }
    },
    "max_weight": {
     "currentValue": "1",
     "nuid": "ea4851d4-dcff-4677-890a-37bc51b42ad4",
     "widgetInfo": {
      "widgetType": "text",
      "defaultValue": "2",
      "label": "max_weight, The weight that will be used for the newest filters",
      "name": "max_weight",
      "options": {
       "widgetType": "text",
       "validationRegex": null
      }
     }
    },
    "min_weight": {
     "currentValue": "0",
     "nuid": "eaa80be4-a6fd-4522-a2c0-5bd5ca6cbfe2",
     "widgetInfo": {
      "widgetType": "text",
      "defaultValue": "0",
      "label": "min_weight, Weight that will be used for the oldest filters",
      "name": "min_weight",
      "options": {
       "widgetType": "text",
       "validationRegex": null
      }
     }
    },
    "to_time": {
     "currentValue": "None",
     "nuid": "190b2ef4-883b-41c9-b814-9dedf294dc93",
     "widgetInfo": {
      "widgetType": "text",
      "defaultValue": "None",
      "label": "toTime, End of interval, use \"None\" for time.now(), Format: yyyy-mm-dd HH:MM:SS",
      "name": "to_time",
      "options": {
       "widgetType": "text",
       "validationRegex": null
      }
     }
    }
   }
  }
 },
 "nbformat": 4,
 "nbformat_minor": 0
}
